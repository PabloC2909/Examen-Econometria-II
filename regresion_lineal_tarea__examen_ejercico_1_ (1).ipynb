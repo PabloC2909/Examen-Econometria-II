{
  "cells": [
    {
      "cell_type": "markdown",
      "metadata": {
        "id": "HiTqCqGTO7WL"
      },
      "source": [
        "# TAREA:\n",
        "\n",
        "\n",
        "# Regresion Lineal\n",
        "## Basado en Christensen, L y W. Greene (1976), \"Economies of Scale in U.S. Electric Power Generation\", Journal of Political Economy, Vol. 84, No. 4, pp. 655-676\n",
        "\n",
        "A continuación, resuleva cada una las instrucciones que se le señalan"
      ]
    },
    {
      "cell_type": "code",
      "execution_count": null,
      "metadata": {
        "colab": {
          "base_uri": "https://localhost:8080/"
        },
        "id": "pQ9wWG4xO7WN",
        "outputId": "171861a0-3c3c-4a6f-84d0-f87d8762ee23"
      },
      "outputs": [
        {
          "output_type": "stream",
          "name": "stdout",
          "text": [
            "Collecting pyreadstat\n",
            "  Downloading pyreadstat-1.2.8-cp311-cp311-manylinux_2_17_x86_64.manylinux2014_x86_64.whl.metadata (1.0 kB)\n",
            "Requirement already satisfied: pandas>=1.2.0 in /usr/local/lib/python3.11/dist-packages (from pyreadstat) (2.2.2)\n",
            "Requirement already satisfied: numpy>=1.23.2 in /usr/local/lib/python3.11/dist-packages (from pandas>=1.2.0->pyreadstat) (2.0.2)\n",
            "Requirement already satisfied: python-dateutil>=2.8.2 in /usr/local/lib/python3.11/dist-packages (from pandas>=1.2.0->pyreadstat) (2.8.2)\n",
            "Requirement already satisfied: pytz>=2020.1 in /usr/local/lib/python3.11/dist-packages (from pandas>=1.2.0->pyreadstat) (2025.1)\n",
            "Requirement already satisfied: tzdata>=2022.7 in /usr/local/lib/python3.11/dist-packages (from pandas>=1.2.0->pyreadstat) (2025.1)\n",
            "Requirement already satisfied: six>=1.5 in /usr/local/lib/python3.11/dist-packages (from python-dateutil>=2.8.2->pandas>=1.2.0->pyreadstat) (1.17.0)\n",
            "Downloading pyreadstat-1.2.8-cp311-cp311-manylinux_2_17_x86_64.manylinux2014_x86_64.whl (2.9 MB)\n",
            "\u001b[2K   \u001b[90m━━━━━━━━━━━━━━━━━━━━━━━━━━━━━━━━━━━━━━━━\u001b[0m \u001b[32m2.9/2.9 MB\u001b[0m \u001b[31m24.2 MB/s\u001b[0m eta \u001b[36m0:00:00\u001b[0m\n",
            "\u001b[?25hInstalling collected packages: pyreadstat\n",
            "Successfully installed pyreadstat-1.2.8\n"
          ]
        }
      ],
      "source": [
        "# Importamos Dependencias o Bibliotecas necesarias:\n",
        "!pip install pyreadstat\n",
        "import pyreadstat # librería para leer formato \".dta\"\n",
        "import pandas as pd # librería para manipulación de datos\n",
        "import numpy as np # Librería para operaciones matemáticas\n",
        "import matplotlib # Librería para graficar\n",
        "from matplotlib import pyplot as plt # Librería para graficar\n",
        "import statsmodels.api as sm # Librería para análisis estadístico\n",
        "from IPython.display import Image # Librería para importar imagénes\n",
        "from statsmodels.formula.api import ols # Librería para pruebas de hipotesis\n",
        "\n",
        "#\n",
        "import warnings\n",
        "warnings.filterwarnings('ignore')"
      ]
    },
    {
      "cell_type": "markdown",
      "metadata": {
        "id": "4YhPyGDXO7WO"
      },
      "source": [
        "### La base de datos contiene información de 100 empresa de generación eléctrica, reportada en las siguientes variables:\n",
        "\n",
        "* **firmid:** ID de la empresa\n",
        "* **cost:** Total costs in MM USD\n",
        "* **output:** output billion KwH\n",
        "* **plabor:** price of labor\n",
        "* **pfuel:** price of fuel\n",
        "* **pkap:** price of capital\n",
        "* **labshr:** participación del trabajo en el costo\n",
        "* **kapshr:** participación del capital en el costo"
      ]
    },
    {
      "cell_type": "markdown",
      "metadata": {
        "id": "D6Dlu6kaO7WO"
      },
      "source": [
        "## 1. Importe la base de DATOS:"
      ]
    },
    {
      "cell_type": "code",
      "execution_count": null,
      "metadata": {
        "colab": {
          "base_uri": "https://localhost:8080/"
        },
        "id": "Mn7NoTz2O7WO",
        "outputId": "a92acb09-7bf9-4021-abdf-96f481ba63c6"
      },
      "outputs": [
        {
          "output_type": "stream",
          "name": "stdout",
          "text": [
            "   firmid   costs  output       plabor       pkap      pfuel  labshr  kapshr\n",
            "0     1.0  0.2130     8.0  6869.470215  64.945000  18.000000  0.3291  0.4197\n",
            "1    20.0  0.4887    14.0  5438.890137  86.110001  34.150002  0.2994  0.4571\n",
            "2    17.0  0.6159    50.0  9204.240234  90.470001  32.070000  0.2963  0.0981\n",
            "3    14.0  0.7606    65.0  8971.889648  41.243000  28.539000  0.2802  0.1282\n",
            "4    28.0  0.6363    67.0  6696.500000  58.257999  25.400000  0.2447  0.3674\n"
          ]
        }
      ],
      "source": [
        "# Ruta al archivo:\n",
        "dtafile = 'cgreene76.dta'\n",
        "# La función read_dat devuelve dos objetos: el dataframe y los metadatosdataframe, meta = pyreadstat.read_dta(dtafile)\n",
        "df, meta = pyreadstat.read_dta(dtafile)\n",
        "print(df.head())"
      ]
    },
    {
      "cell_type": "code",
      "execution_count": null,
      "metadata": {
        "colab": {
          "base_uri": "https://localhost:8080/"
        },
        "id": "4n5hl5C9O7WO",
        "outputId": "ae3949a9-7c4a-4409-fea6-9acaac815eeb"
      },
      "outputs": [
        {
          "output_type": "stream",
          "name": "stdout",
          "text": [
            "    firmid       costs   output       plabor       pkap      pfuel  labshr  \\\n",
            "89   127.0  111.867996  23217.0  6873.729980  83.879997  33.394402  0.0849   \n",
            "90   142.0  125.335999  24001.0  8047.350098  74.372002  33.093201  0.0998   \n",
            "91   137.0  183.231995  27118.0  9914.360352  78.480003  41.757801  0.1280   \n",
            "92   130.0   87.101501  27708.0  6378.229980  63.599998  20.299999  0.1060   \n",
            "93   144.0  240.514008  29613.0  9312.929688  81.750000  41.887199  0.1561   \n",
            "94   143.0  191.563004  30958.0  9810.099609  69.541000  36.307598  0.1636   \n",
            "95   141.0  168.378006  34212.0  5683.830078  80.385002  40.528599  0.0651   \n",
            "96   138.0  169.235001  38343.0  9117.160156  65.991997  31.589701  0.0663   \n",
            "97   175.0  269.773010  46870.0  9761.379883  69.541000  33.199902  0.1594   \n",
            "98   172.0  240.485992  53918.0  6068.870117  78.379997  31.195400  0.0966   \n",
            "\n",
            "    kapshr  \n",
            "89  0.2007  \n",
            "90  0.2457  \n",
            "91  0.2265  \n",
            "92  0.2257  \n",
            "93  0.2017  \n",
            "94  0.1524  \n",
            "95  0.1361  \n",
            "96  0.2192  \n",
            "97  0.2194  \n",
            "98  0.1846  \n"
          ]
        }
      ],
      "source": [
        "# Muestre los datos importados\n",
        "df.tail(10)\n",
        "print(df.tail(10))"
      ]
    },
    {
      "cell_type": "code",
      "source": [
        "print(df.columns)"
      ],
      "metadata": {
        "colab": {
          "base_uri": "https://localhost:8080/"
        },
        "id": "FPjjqdhIcntB",
        "outputId": "7a72de2e-e59c-4709-d7a0-64ddf8b95113"
      },
      "execution_count": null,
      "outputs": [
        {
          "output_type": "stream",
          "name": "stdout",
          "text": [
            "Index(['firmid', 'costs', 'output', 'plabor', 'pkap', 'pfuel', 'labshr',\n",
            "       'kapshr'],\n",
            "      dtype='object')\n"
          ]
        }
      ]
    },
    {
      "cell_type": "markdown",
      "metadata": {
        "id": "J6eZyO49O7WO"
      },
      "source": [
        "# Considere una función de costos del tipo translog, escrita como:\n",
        "\n",
        "$$ln(C) = \\alpha_0 +  \\alpha_Y ln(Y) + \\frac{1}{2} \\gamma_{YY} (ln(Y))^2 + \\sum_k \\alpha_k ln(P_{k}) + \\frac{1}{2} \\sum_{k} \\sum_{j} \\gamma_{kj} ln(P_k) ln(P_j) + \\sum_k \\gamma_{Yk} ln(Y) ln(P_k) + \\varepsilon_i$$\n",
        "\n",
        "Este ecuación es equivalente a la que Christensen y Greene denominan Modelo A. Donde:\n",
        "$\\gamma_{kj} = \\gamma_{jk}$, $C$ es el costo total, $Y$ es el producto, $P_k$'s y $P_j$'s son los precios de los factores. $k,j = $ precio de combustible, precio del capital y precio del trabajo.\n",
        "\n",
        "Noten que la doble suma $\\sum_{k} \\sum_{j} \\gamma_{kj} ln(P_k) ln(P_j)$ implica que el caso $(ln(P_k))^2$ y $(ln(P_j))^2$ son posibles."
      ]
    },
    {
      "cell_type": "markdown",
      "metadata": {
        "id": "KbogQLu1O7WP"
      },
      "source": [
        "## 2. Realice las transformaciones necesarias en los datos para estimar la ecuación anterior:"
      ]
    },
    {
      "cell_type": "code",
      "source": [
        "df['One'] = 1"
      ],
      "metadata": {
        "id": "pSad30qf9w29"
      },
      "execution_count": null,
      "outputs": []
    },
    {
      "cell_type": "code",
      "source": [
        "#Creamos la variable:\n",
        "df['Ltotcost'] = np.log(df['costs'])  # Log del costo total\n",
        "df['Loutput'] = np.log(df['output'])  # Log del producto\n",
        "df['Lpfuel'] = np.log(df['pfuel'])  # Log del precio del combustible\n",
        "df['Lpkap'] = np.log(df['pkap'])  # Log del precio del capital\n",
        "df['Lplabor'] = np.log(df['plabor'])  # Log del precio del trabajo\n",
        "df['Llabshr'] = np.log(df['labshr'])  # Log de la participación del trabajo en el costo\n",
        "df['Lkapshr'] = np.log(df['kapshr'])  # Log de la participación del capital en el costo\n",
        "\n",
        "df['One'] = 1\n"
      ],
      "metadata": {
        "id": "XQ0Wc2umb-ba"
      },
      "execution_count": null,
      "outputs": []
    },
    {
      "cell_type": "code",
      "execution_count": null,
      "metadata": {
        "id": "WWtvZD2ZO7WP",
        "colab": {
          "base_uri": "https://localhost:8080/",
          "height": 226
        },
        "outputId": "3f211086-f16b-4f2a-8ee7-e410c1241b33"
      },
      "outputs": [
        {
          "output_type": "execute_result",
          "data": {
            "text/plain": [
              "   Ltotcost   Loutput    Lpfuel     Lpkap   Lplabor  Loutput_sq  Lpfuel_sq  \\\n",
              "0 -1.546463  2.079442  2.890372  4.173541  8.834842    4.324077   8.354249   \n",
              "1 -0.716006  2.639057  3.530763  4.455626  8.601330    6.964624  12.466285   \n",
              "2 -0.484671  3.912023  3.467921  4.505018  9.127420   15.303924  12.026476   \n",
              "3 -0.273648  4.174387  3.351272  3.719481  9.101852   17.425509  11.231021   \n",
              "4 -0.452085  4.204693  3.234749  4.064881  8.809340   17.679440  10.463602   \n",
              "\n",
              "    Lpkap_sq  Lplabor_sq  Loutput_Lpfuel  Loutput_Lpkap  Loutput_Lplabor  \\\n",
              "0  17.418442   78.054438        6.010359       8.678634        18.371538   \n",
              "1  19.852599   73.982883        9.317885      11.758651        22.699404   \n",
              "2  20.295190   83.309788       13.566587      17.623735        35.706675   \n",
              "3  13.834542   82.843702       13.989505      15.526556        37.994653   \n",
              "4  16.523261   77.604476       13.601126      17.091577        37.040568   \n",
              "\n",
              "   Lpfuel_Lpkap  Lpfuel_Lplabor  Lpkap_Lplabor  \n",
              "0     12.063084       25.535979      36.872574  \n",
              "1     15.731756       30.369256      38.324307  \n",
              "2     15.623048       31.653170      41.119192  \n",
              "3     12.464992       30.502776      33.854168  \n",
              "4     13.148872       28.496006      35.808924  "
            ],
            "text/html": [
              "\n",
              "  <div id=\"df-dabf60e1-7f84-457c-8eb2-c8c292b0f728\" class=\"colab-df-container\">\n",
              "    <div>\n",
              "<style scoped>\n",
              "    .dataframe tbody tr th:only-of-type {\n",
              "        vertical-align: middle;\n",
              "    }\n",
              "\n",
              "    .dataframe tbody tr th {\n",
              "        vertical-align: top;\n",
              "    }\n",
              "\n",
              "    .dataframe thead th {\n",
              "        text-align: right;\n",
              "    }\n",
              "</style>\n",
              "<table border=\"1\" class=\"dataframe\">\n",
              "  <thead>\n",
              "    <tr style=\"text-align: right;\">\n",
              "      <th></th>\n",
              "      <th>Ltotcost</th>\n",
              "      <th>Loutput</th>\n",
              "      <th>Lpfuel</th>\n",
              "      <th>Lpkap</th>\n",
              "      <th>Lplabor</th>\n",
              "      <th>Loutput_sq</th>\n",
              "      <th>Lpfuel_sq</th>\n",
              "      <th>Lpkap_sq</th>\n",
              "      <th>Lplabor_sq</th>\n",
              "      <th>Loutput_Lpfuel</th>\n",
              "      <th>Loutput_Lpkap</th>\n",
              "      <th>Loutput_Lplabor</th>\n",
              "      <th>Lpfuel_Lpkap</th>\n",
              "      <th>Lpfuel_Lplabor</th>\n",
              "      <th>Lpkap_Lplabor</th>\n",
              "    </tr>\n",
              "  </thead>\n",
              "  <tbody>\n",
              "    <tr>\n",
              "      <th>0</th>\n",
              "      <td>-1.546463</td>\n",
              "      <td>2.079442</td>\n",
              "      <td>2.890372</td>\n",
              "      <td>4.173541</td>\n",
              "      <td>8.834842</td>\n",
              "      <td>4.324077</td>\n",
              "      <td>8.354249</td>\n",
              "      <td>17.418442</td>\n",
              "      <td>78.054438</td>\n",
              "      <td>6.010359</td>\n",
              "      <td>8.678634</td>\n",
              "      <td>18.371538</td>\n",
              "      <td>12.063084</td>\n",
              "      <td>25.535979</td>\n",
              "      <td>36.872574</td>\n",
              "    </tr>\n",
              "    <tr>\n",
              "      <th>1</th>\n",
              "      <td>-0.716006</td>\n",
              "      <td>2.639057</td>\n",
              "      <td>3.530763</td>\n",
              "      <td>4.455626</td>\n",
              "      <td>8.601330</td>\n",
              "      <td>6.964624</td>\n",
              "      <td>12.466285</td>\n",
              "      <td>19.852599</td>\n",
              "      <td>73.982883</td>\n",
              "      <td>9.317885</td>\n",
              "      <td>11.758651</td>\n",
              "      <td>22.699404</td>\n",
              "      <td>15.731756</td>\n",
              "      <td>30.369256</td>\n",
              "      <td>38.324307</td>\n",
              "    </tr>\n",
              "    <tr>\n",
              "      <th>2</th>\n",
              "      <td>-0.484671</td>\n",
              "      <td>3.912023</td>\n",
              "      <td>3.467921</td>\n",
              "      <td>4.505018</td>\n",
              "      <td>9.127420</td>\n",
              "      <td>15.303924</td>\n",
              "      <td>12.026476</td>\n",
              "      <td>20.295190</td>\n",
              "      <td>83.309788</td>\n",
              "      <td>13.566587</td>\n",
              "      <td>17.623735</td>\n",
              "      <td>35.706675</td>\n",
              "      <td>15.623048</td>\n",
              "      <td>31.653170</td>\n",
              "      <td>41.119192</td>\n",
              "    </tr>\n",
              "    <tr>\n",
              "      <th>3</th>\n",
              "      <td>-0.273648</td>\n",
              "      <td>4.174387</td>\n",
              "      <td>3.351272</td>\n",
              "      <td>3.719481</td>\n",
              "      <td>9.101852</td>\n",
              "      <td>17.425509</td>\n",
              "      <td>11.231021</td>\n",
              "      <td>13.834542</td>\n",
              "      <td>82.843702</td>\n",
              "      <td>13.989505</td>\n",
              "      <td>15.526556</td>\n",
              "      <td>37.994653</td>\n",
              "      <td>12.464992</td>\n",
              "      <td>30.502776</td>\n",
              "      <td>33.854168</td>\n",
              "    </tr>\n",
              "    <tr>\n",
              "      <th>4</th>\n",
              "      <td>-0.452085</td>\n",
              "      <td>4.204693</td>\n",
              "      <td>3.234749</td>\n",
              "      <td>4.064881</td>\n",
              "      <td>8.809340</td>\n",
              "      <td>17.679440</td>\n",
              "      <td>10.463602</td>\n",
              "      <td>16.523261</td>\n",
              "      <td>77.604476</td>\n",
              "      <td>13.601126</td>\n",
              "      <td>17.091577</td>\n",
              "      <td>37.040568</td>\n",
              "      <td>13.148872</td>\n",
              "      <td>28.496006</td>\n",
              "      <td>35.808924</td>\n",
              "    </tr>\n",
              "  </tbody>\n",
              "</table>\n",
              "</div>\n",
              "    <div class=\"colab-df-buttons\">\n",
              "\n",
              "  <div class=\"colab-df-container\">\n",
              "    <button class=\"colab-df-convert\" onclick=\"convertToInteractive('df-dabf60e1-7f84-457c-8eb2-c8c292b0f728')\"\n",
              "            title=\"Convert this dataframe to an interactive table.\"\n",
              "            style=\"display:none;\">\n",
              "\n",
              "  <svg xmlns=\"http://www.w3.org/2000/svg\" height=\"24px\" viewBox=\"0 -960 960 960\">\n",
              "    <path d=\"M120-120v-720h720v720H120Zm60-500h600v-160H180v160Zm220 220h160v-160H400v160Zm0 220h160v-160H400v160ZM180-400h160v-160H180v160Zm440 0h160v-160H620v160ZM180-180h160v-160H180v160Zm440 0h160v-160H620v160Z\"/>\n",
              "  </svg>\n",
              "    </button>\n",
              "\n",
              "  <style>\n",
              "    .colab-df-container {\n",
              "      display:flex;\n",
              "      gap: 12px;\n",
              "    }\n",
              "\n",
              "    .colab-df-convert {\n",
              "      background-color: #E8F0FE;\n",
              "      border: none;\n",
              "      border-radius: 50%;\n",
              "      cursor: pointer;\n",
              "      display: none;\n",
              "      fill: #1967D2;\n",
              "      height: 32px;\n",
              "      padding: 0 0 0 0;\n",
              "      width: 32px;\n",
              "    }\n",
              "\n",
              "    .colab-df-convert:hover {\n",
              "      background-color: #E2EBFA;\n",
              "      box-shadow: 0px 1px 2px rgba(60, 64, 67, 0.3), 0px 1px 3px 1px rgba(60, 64, 67, 0.15);\n",
              "      fill: #174EA6;\n",
              "    }\n",
              "\n",
              "    .colab-df-buttons div {\n",
              "      margin-bottom: 4px;\n",
              "    }\n",
              "\n",
              "    [theme=dark] .colab-df-convert {\n",
              "      background-color: #3B4455;\n",
              "      fill: #D2E3FC;\n",
              "    }\n",
              "\n",
              "    [theme=dark] .colab-df-convert:hover {\n",
              "      background-color: #434B5C;\n",
              "      box-shadow: 0px 1px 3px 1px rgba(0, 0, 0, 0.15);\n",
              "      filter: drop-shadow(0px 1px 2px rgba(0, 0, 0, 0.3));\n",
              "      fill: #FFFFFF;\n",
              "    }\n",
              "  </style>\n",
              "\n",
              "    <script>\n",
              "      const buttonEl =\n",
              "        document.querySelector('#df-dabf60e1-7f84-457c-8eb2-c8c292b0f728 button.colab-df-convert');\n",
              "      buttonEl.style.display =\n",
              "        google.colab.kernel.accessAllowed ? 'block' : 'none';\n",
              "\n",
              "      async function convertToInteractive(key) {\n",
              "        const element = document.querySelector('#df-dabf60e1-7f84-457c-8eb2-c8c292b0f728');\n",
              "        const dataTable =\n",
              "          await google.colab.kernel.invokeFunction('convertToInteractive',\n",
              "                                                    [key], {});\n",
              "        if (!dataTable) return;\n",
              "\n",
              "        const docLinkHtml = 'Like what you see? Visit the ' +\n",
              "          '<a target=\"_blank\" href=https://colab.research.google.com/notebooks/data_table.ipynb>data table notebook</a>'\n",
              "          + ' to learn more about interactive tables.';\n",
              "        element.innerHTML = '';\n",
              "        dataTable['output_type'] = 'display_data';\n",
              "        await google.colab.output.renderOutput(dataTable, element);\n",
              "        const docLink = document.createElement('div');\n",
              "        docLink.innerHTML = docLinkHtml;\n",
              "        element.appendChild(docLink);\n",
              "      }\n",
              "    </script>\n",
              "  </div>\n",
              "\n",
              "\n",
              "<div id=\"df-fb6008e3-c5d5-4e54-b566-b8483c1f013c\">\n",
              "  <button class=\"colab-df-quickchart\" onclick=\"quickchart('df-fb6008e3-c5d5-4e54-b566-b8483c1f013c')\"\n",
              "            title=\"Suggest charts\"\n",
              "            style=\"display:none;\">\n",
              "\n",
              "<svg xmlns=\"http://www.w3.org/2000/svg\" height=\"24px\"viewBox=\"0 0 24 24\"\n",
              "     width=\"24px\">\n",
              "    <g>\n",
              "        <path d=\"M19 3H5c-1.1 0-2 .9-2 2v14c0 1.1.9 2 2 2h14c1.1 0 2-.9 2-2V5c0-1.1-.9-2-2-2zM9 17H7v-7h2v7zm4 0h-2V7h2v10zm4 0h-2v-4h2v4z\"/>\n",
              "    </g>\n",
              "</svg>\n",
              "  </button>\n",
              "\n",
              "<style>\n",
              "  .colab-df-quickchart {\n",
              "      --bg-color: #E8F0FE;\n",
              "      --fill-color: #1967D2;\n",
              "      --hover-bg-color: #E2EBFA;\n",
              "      --hover-fill-color: #174EA6;\n",
              "      --disabled-fill-color: #AAA;\n",
              "      --disabled-bg-color: #DDD;\n",
              "  }\n",
              "\n",
              "  [theme=dark] .colab-df-quickchart {\n",
              "      --bg-color: #3B4455;\n",
              "      --fill-color: #D2E3FC;\n",
              "      --hover-bg-color: #434B5C;\n",
              "      --hover-fill-color: #FFFFFF;\n",
              "      --disabled-bg-color: #3B4455;\n",
              "      --disabled-fill-color: #666;\n",
              "  }\n",
              "\n",
              "  .colab-df-quickchart {\n",
              "    background-color: var(--bg-color);\n",
              "    border: none;\n",
              "    border-radius: 50%;\n",
              "    cursor: pointer;\n",
              "    display: none;\n",
              "    fill: var(--fill-color);\n",
              "    height: 32px;\n",
              "    padding: 0;\n",
              "    width: 32px;\n",
              "  }\n",
              "\n",
              "  .colab-df-quickchart:hover {\n",
              "    background-color: var(--hover-bg-color);\n",
              "    box-shadow: 0 1px 2px rgba(60, 64, 67, 0.3), 0 1px 3px 1px rgba(60, 64, 67, 0.15);\n",
              "    fill: var(--button-hover-fill-color);\n",
              "  }\n",
              "\n",
              "  .colab-df-quickchart-complete:disabled,\n",
              "  .colab-df-quickchart-complete:disabled:hover {\n",
              "    background-color: var(--disabled-bg-color);\n",
              "    fill: var(--disabled-fill-color);\n",
              "    box-shadow: none;\n",
              "  }\n",
              "\n",
              "  .colab-df-spinner {\n",
              "    border: 2px solid var(--fill-color);\n",
              "    border-color: transparent;\n",
              "    border-bottom-color: var(--fill-color);\n",
              "    animation:\n",
              "      spin 1s steps(1) infinite;\n",
              "  }\n",
              "\n",
              "  @keyframes spin {\n",
              "    0% {\n",
              "      border-color: transparent;\n",
              "      border-bottom-color: var(--fill-color);\n",
              "      border-left-color: var(--fill-color);\n",
              "    }\n",
              "    20% {\n",
              "      border-color: transparent;\n",
              "      border-left-color: var(--fill-color);\n",
              "      border-top-color: var(--fill-color);\n",
              "    }\n",
              "    30% {\n",
              "      border-color: transparent;\n",
              "      border-left-color: var(--fill-color);\n",
              "      border-top-color: var(--fill-color);\n",
              "      border-right-color: var(--fill-color);\n",
              "    }\n",
              "    40% {\n",
              "      border-color: transparent;\n",
              "      border-right-color: var(--fill-color);\n",
              "      border-top-color: var(--fill-color);\n",
              "    }\n",
              "    60% {\n",
              "      border-color: transparent;\n",
              "      border-right-color: var(--fill-color);\n",
              "    }\n",
              "    80% {\n",
              "      border-color: transparent;\n",
              "      border-right-color: var(--fill-color);\n",
              "      border-bottom-color: var(--fill-color);\n",
              "    }\n",
              "    90% {\n",
              "      border-color: transparent;\n",
              "      border-bottom-color: var(--fill-color);\n",
              "    }\n",
              "  }\n",
              "</style>\n",
              "\n",
              "  <script>\n",
              "    async function quickchart(key) {\n",
              "      const quickchartButtonEl =\n",
              "        document.querySelector('#' + key + ' button');\n",
              "      quickchartButtonEl.disabled = true;  // To prevent multiple clicks.\n",
              "      quickchartButtonEl.classList.add('colab-df-spinner');\n",
              "      try {\n",
              "        const charts = await google.colab.kernel.invokeFunction(\n",
              "            'suggestCharts', [key], {});\n",
              "      } catch (error) {\n",
              "        console.error('Error during call to suggestCharts:', error);\n",
              "      }\n",
              "      quickchartButtonEl.classList.remove('colab-df-spinner');\n",
              "      quickchartButtonEl.classList.add('colab-df-quickchart-complete');\n",
              "    }\n",
              "    (() => {\n",
              "      let quickchartButtonEl =\n",
              "        document.querySelector('#df-fb6008e3-c5d5-4e54-b566-b8483c1f013c button');\n",
              "      quickchartButtonEl.style.display =\n",
              "        google.colab.kernel.accessAllowed ? 'block' : 'none';\n",
              "    })();\n",
              "  </script>\n",
              "</div>\n",
              "\n",
              "    </div>\n",
              "  </div>\n"
            ],
            "application/vnd.google.colaboratory.intrinsic+json": {
              "type": "dataframe",
              "summary": "{\n  \"name\": \"    'Lpfuel_Lpkap', 'Lpfuel_Lplabor', 'Lpkap_Lplabor']]\",\n  \"rows\": 5,\n  \"fields\": [\n    {\n      \"column\": \"Ltotcost\",\n      \"properties\": {\n        \"dtype\": \"number\",\n        \"std\": 0.5015509986476462,\n        \"min\": -1.5464631155113842,\n        \"max\": -0.27364772185562786,\n        \"num_unique_values\": 5,\n        \"samples\": [\n          -0.7160064697298267,\n          -0.45208508572837836,\n          -0.4846706986512007\n        ],\n        \"semantic_type\": \"\",\n        \"description\": \"\"\n      }\n    },\n    {\n      \"column\": \"Loutput\",\n      \"properties\": {\n        \"dtype\": \"number\",\n        \"std\": 0.9788083781105308,\n        \"min\": 2.0794415416798357,\n        \"max\": 4.204692619390966,\n        \"num_unique_values\": 5,\n        \"samples\": [\n          2.6390573296152584,\n          4.204692619390966,\n          3.912023005428146\n        ],\n        \"semantic_type\": \"\",\n        \"description\": \"\"\n      }\n    },\n    {\n      \"column\": \"Lpfuel\",\n      \"properties\": {\n        \"dtype\": \"number\",\n        \"std\": 0.25298535376796993,\n        \"min\": 2.8903717578961645,\n        \"max\": 3.5307626306984643,\n        \"num_unique_values\": 5,\n        \"samples\": [\n          3.5307626306984643,\n          3.2347491590059976,\n          3.4679210041891366\n        ],\n        \"semantic_type\": \"\",\n        \"description\": \"\"\n      }\n    },\n    {\n      \"column\": \"Lpkap\",\n      \"properties\": {\n        \"dtype\": \"number\",\n        \"std\": 0.3189470733276717,\n        \"min\": 3.719481402150779,\n        \"max\": 4.505018317530555,\n        \"num_unique_values\": 5,\n        \"samples\": [\n          4.455625555796119,\n          4.064881412118595,\n          4.505018317530555\n        ],\n        \"semantic_type\": \"\",\n        \"description\": \"\"\n      }\n    },\n    {\n      \"column\": \"Lplabor\",\n      \"properties\": {\n        \"dtype\": \"number\",\n        \"std\": 0.22022991089105004,\n        \"min\": 8.60133030004976,\n        \"max\": 9.127419551898397,\n        \"num_unique_values\": 5,\n        \"samples\": [\n          8.60133030004976,\n          8.809340280827177,\n          9.127419551898397\n        ],\n        \"semantic_type\": \"\",\n        \"description\": \"\"\n      }\n    },\n    {\n      \"column\": \"Loutput_sq\",\n      \"properties\": {\n        \"dtype\": \"number\",\n        \"std\": 6.2511310521181755,\n        \"min\": 4.324077125263812,\n        \"max\": 17.67944002356086,\n        \"num_unique_values\": 5,\n        \"samples\": [\n          6.964623588996019,\n          17.67944002356086,\n          15.303923994999064\n        ],\n        \"semantic_type\": \"\",\n        \"description\": \"\"\n      }\n    },\n    {\n      \"column\": \"Lpfuel_sq\",\n      \"properties\": {\n        \"dtype\": \"number\",\n        \"std\": 1.6203947335167563,\n        \"min\": 8.354248898843764,\n        \"max\": 12.46628475433674,\n        \"num_unique_values\": 5,\n        \"samples\": [\n          12.46628475433674,\n          10.463602121690009,\n          12.026476091296189\n        ],\n        \"semantic_type\": \"\",\n        \"description\": \"\"\n      }\n    },\n    {\n      \"column\": \"Lpkap_sq\",\n      \"properties\": {\n        \"dtype\": \"number\",\n        \"std\": 2.631924335482307,\n        \"min\": 13.834541900945524,\n        \"max\": 20.295190041285835,\n        \"num_unique_values\": 5,\n        \"samples\": [\n          19.85259909346347,\n          16.523260894587263,\n          20.295190041285835\n        ],\n        \"semantic_type\": \"\",\n        \"description\": \"\"\n      }\n    },\n    {\n      \"column\": \"Lplabor_sq\",\n      \"properties\": {\n        \"dtype\": \"number\",\n        \"std\": 3.9126353125768354,\n        \"min\": 73.9828829305541,\n        \"max\": 83.30978767637713,\n        \"num_unique_values\": 5,\n        \"samples\": [\n          73.9828829305541,\n          77.60447618340424,\n          83.30978767637713\n        ],\n        \"semantic_type\": \"\",\n        \"description\": \"\"\n      }\n    },\n    {\n      \"column\": \"Loutput_Lpfuel\",\n      \"properties\": {\n        \"dtype\": \"number\",\n        \"std\": 3.52047842208592,\n        \"min\": 6.010359104267457,\n        \"max\": 13.989505327120286,\n        \"num_unique_values\": 5,\n        \"samples\": [\n          9.317884999676433,\n          13.601125914453652,\n          13.56658674939538\n        ],\n        \"semantic_type\": \"\",\n        \"description\": \"\"\n      }\n    },\n    {\n      \"column\": \"Loutput_Lpkap\",\n      \"properties\": {\n        \"dtype\": \"number\",\n        \"std\": 3.816674202861821,\n        \"min\": 8.678634018015194,\n        \"max\": 17.623735298054733,\n        \"num_unique_values\": 5,\n        \"samples\": [\n          11.758651281044807,\n          17.091576872234583,\n          17.623735298054733\n        ],\n        \"semantic_type\": \"\",\n        \"description\": \"\"\n      }\n    },\n    {\n      \"column\": \"Loutput_Lplabor\",\n      \"properties\": {\n        \"dtype\": \"number\",\n        \"std\": 9.136640264012444,\n        \"min\": 18.37153802314801,\n        \"max\": 37.99465343488209,\n        \"num_unique_values\": 5,\n        \"samples\": [\n          22.69940377278813,\n          37.04056806049757,\n          35.706675267221186\n        ],\n        \"semantic_type\": \"\",\n        \"description\": \"\"\n      }\n    },\n    {\n      \"column\": \"Lpfuel_Lpkap\",\n      \"properties\": {\n        \"dtype\": \"number\",\n        \"std\": 1.7520040647249868,\n        \"min\": 12.063084323363102,\n        \"max\": 15.731756208790012,\n        \"num_unique_values\": 5,\n        \"samples\": [\n          15.731756208790012,\n          13.148871729309738,\n          15.623047647621018\n        ],\n        \"semantic_type\": \"\",\n        \"description\": \"\"\n      }\n    },\n    {\n      \"column\": \"Lpfuel_Lplabor\",\n      \"properties\": {\n        \"dtype\": \"number\",\n        \"std\": 2.394838041288944,\n        \"min\": 25.535978572557653,\n        \"max\": 31.65316997807505,\n        \"num_unique_values\": 5,\n        \"samples\": [\n          30.3692555977101,\n          28.49600606480337,\n          31.65316997807505\n        ],\n        \"semantic_type\": \"\",\n        \"description\": \"\"\n      }\n    },\n    {\n      \"column\": \"Lpkap_Lplabor\",\n      \"properties\": {\n        \"dtype\": \"number\",\n        \"std\": 2.7322583390429487,\n        \"min\": 33.8541677365122,\n        \"max\": 41.119192273088814,\n        \"num_unique_values\": 5,\n        \"samples\": [\n          38.32430709874521,\n          35.80892356056199,\n          41.119192273088814\n        ],\n        \"semantic_type\": \"\",\n        \"description\": \"\"\n      }\n    }\n  ]\n}"
            }
          },
          "metadata": {},
          "execution_count": 7
        }
      ],
      "source": [
        "# Muestre su data frame con las variables adicionales necesarias\n",
        "# variables adicionales necesarias:\n",
        "df['Loutput_sq'] = df['Loutput']**2\n",
        "df['Lpfuel_sq'] = df['Lpfuel']**2\n",
        "df['Lpkap_sq'] = df['Lpkap']**2\n",
        "df['Lplabor_sq'] = df['Lplabor']**2\n",
        "df['Loutput_Lpfuel'] = df['Loutput'] * df['Lpfuel']\n",
        "df['Loutput_Lpkap'] = df['Loutput'] * df['Lpkap']\n",
        "df['Loutput_Lplabor'] = df['Loutput'] * df['Lplabor']\n",
        "df['Lpfuel_Lpkap'] = df['Lpfuel'] * df['Lpkap']\n",
        "df['Lpfuel_Lplabor'] = df['Lpfuel'] * df['Lplabor']\n",
        "df['Lpkap_Lplabor'] = df['Lpkap'] * df['Lplabor']\n",
        "\n",
        "# DataFrame con las nuevas columnas:\n",
        "df[['Ltotcost', 'Loutput', 'Lpfuel', 'Lpkap', 'Lplabor',\n",
        "    'Loutput_sq', 'Lpfuel_sq', 'Lpkap_sq', 'Lplabor_sq',\n",
        "    'Loutput_Lpfuel', 'Loutput_Lpkap', 'Loutput_Lplabor',\n",
        "    'Lpfuel_Lpkap', 'Lpfuel_Lplabor', 'Lpkap_Lplabor']].head()"
      ]
    },
    {
      "cell_type": "markdown",
      "metadata": {
        "id": "wmUr5maDO7WP"
      },
      "source": [
        "## 3. Realice la estimación de la regresión de la función translog:"
      ]
    },
    {
      "cell_type": "code",
      "execution_count": null,
      "metadata": {
        "id": "_b66ZYqmO7WP",
        "colab": {
          "base_uri": "https://localhost:8080/",
          "height": 226
        },
        "outputId": "1dd895f8-3b2e-4545-b0d6-65c50fbacf9b"
      },
      "outputs": [
        {
          "output_type": "execute_result",
          "data": {
            "text/plain": [
              "   One   Loutput   Lplabor    Lpfuel     Lpkap  Loutput_sq  Lplabor_sq  \\\n",
              "0    1  2.079442  8.834842  2.890372  4.173541    4.324077   78.054438   \n",
              "1    1  2.639057  8.601330  3.530763  4.455626    6.964624   73.982883   \n",
              "2    1  3.912023  9.127420  3.467921  4.505018   15.303924   83.309788   \n",
              "3    1  4.174387  9.101852  3.351272  3.719481   17.425509   82.843702   \n",
              "4    1  4.204693  8.809340  3.234749  4.064881   17.679440   77.604476   \n",
              "\n",
              "   Lpfuel_sq   Lpkap_sq  Loutput_Lpfuel  Loutput_Lpkap  Loutput_Lplabor  \\\n",
              "0   8.354249  17.418442        6.010359       8.678634        18.371538   \n",
              "1  12.466285  19.852599        9.317885      11.758651        22.699404   \n",
              "2  12.026476  20.295190       13.566587      17.623735        35.706675   \n",
              "3  11.231021  13.834542       13.989505      15.526556        37.994653   \n",
              "4  10.463602  16.523261       13.601126      17.091577        37.040568   \n",
              "\n",
              "   Lpfuel_Lpkap  Lpfuel_Lplabor  Lpkap_Lplabor  \n",
              "0     12.063084       25.535979      36.872574  \n",
              "1     15.731756       30.369256      38.324307  \n",
              "2     15.623048       31.653170      41.119192  \n",
              "3     12.464992       30.502776      33.854168  \n",
              "4     13.148872       28.496006      35.808924  "
            ],
            "text/html": [
              "\n",
              "  <div id=\"df-36760113-2f0d-441e-bd38-fb892ed32793\" class=\"colab-df-container\">\n",
              "    <div>\n",
              "<style scoped>\n",
              "    .dataframe tbody tr th:only-of-type {\n",
              "        vertical-align: middle;\n",
              "    }\n",
              "\n",
              "    .dataframe tbody tr th {\n",
              "        vertical-align: top;\n",
              "    }\n",
              "\n",
              "    .dataframe thead th {\n",
              "        text-align: right;\n",
              "    }\n",
              "</style>\n",
              "<table border=\"1\" class=\"dataframe\">\n",
              "  <thead>\n",
              "    <tr style=\"text-align: right;\">\n",
              "      <th></th>\n",
              "      <th>One</th>\n",
              "      <th>Loutput</th>\n",
              "      <th>Lplabor</th>\n",
              "      <th>Lpfuel</th>\n",
              "      <th>Lpkap</th>\n",
              "      <th>Loutput_sq</th>\n",
              "      <th>Lplabor_sq</th>\n",
              "      <th>Lpfuel_sq</th>\n",
              "      <th>Lpkap_sq</th>\n",
              "      <th>Loutput_Lpfuel</th>\n",
              "      <th>Loutput_Lpkap</th>\n",
              "      <th>Loutput_Lplabor</th>\n",
              "      <th>Lpfuel_Lpkap</th>\n",
              "      <th>Lpfuel_Lplabor</th>\n",
              "      <th>Lpkap_Lplabor</th>\n",
              "    </tr>\n",
              "  </thead>\n",
              "  <tbody>\n",
              "    <tr>\n",
              "      <th>0</th>\n",
              "      <td>1</td>\n",
              "      <td>2.079442</td>\n",
              "      <td>8.834842</td>\n",
              "      <td>2.890372</td>\n",
              "      <td>4.173541</td>\n",
              "      <td>4.324077</td>\n",
              "      <td>78.054438</td>\n",
              "      <td>8.354249</td>\n",
              "      <td>17.418442</td>\n",
              "      <td>6.010359</td>\n",
              "      <td>8.678634</td>\n",
              "      <td>18.371538</td>\n",
              "      <td>12.063084</td>\n",
              "      <td>25.535979</td>\n",
              "      <td>36.872574</td>\n",
              "    </tr>\n",
              "    <tr>\n",
              "      <th>1</th>\n",
              "      <td>1</td>\n",
              "      <td>2.639057</td>\n",
              "      <td>8.601330</td>\n",
              "      <td>3.530763</td>\n",
              "      <td>4.455626</td>\n",
              "      <td>6.964624</td>\n",
              "      <td>73.982883</td>\n",
              "      <td>12.466285</td>\n",
              "      <td>19.852599</td>\n",
              "      <td>9.317885</td>\n",
              "      <td>11.758651</td>\n",
              "      <td>22.699404</td>\n",
              "      <td>15.731756</td>\n",
              "      <td>30.369256</td>\n",
              "      <td>38.324307</td>\n",
              "    </tr>\n",
              "    <tr>\n",
              "      <th>2</th>\n",
              "      <td>1</td>\n",
              "      <td>3.912023</td>\n",
              "      <td>9.127420</td>\n",
              "      <td>3.467921</td>\n",
              "      <td>4.505018</td>\n",
              "      <td>15.303924</td>\n",
              "      <td>83.309788</td>\n",
              "      <td>12.026476</td>\n",
              "      <td>20.295190</td>\n",
              "      <td>13.566587</td>\n",
              "      <td>17.623735</td>\n",
              "      <td>35.706675</td>\n",
              "      <td>15.623048</td>\n",
              "      <td>31.653170</td>\n",
              "      <td>41.119192</td>\n",
              "    </tr>\n",
              "    <tr>\n",
              "      <th>3</th>\n",
              "      <td>1</td>\n",
              "      <td>4.174387</td>\n",
              "      <td>9.101852</td>\n",
              "      <td>3.351272</td>\n",
              "      <td>3.719481</td>\n",
              "      <td>17.425509</td>\n",
              "      <td>82.843702</td>\n",
              "      <td>11.231021</td>\n",
              "      <td>13.834542</td>\n",
              "      <td>13.989505</td>\n",
              "      <td>15.526556</td>\n",
              "      <td>37.994653</td>\n",
              "      <td>12.464992</td>\n",
              "      <td>30.502776</td>\n",
              "      <td>33.854168</td>\n",
              "    </tr>\n",
              "    <tr>\n",
              "      <th>4</th>\n",
              "      <td>1</td>\n",
              "      <td>4.204693</td>\n",
              "      <td>8.809340</td>\n",
              "      <td>3.234749</td>\n",
              "      <td>4.064881</td>\n",
              "      <td>17.679440</td>\n",
              "      <td>77.604476</td>\n",
              "      <td>10.463602</td>\n",
              "      <td>16.523261</td>\n",
              "      <td>13.601126</td>\n",
              "      <td>17.091577</td>\n",
              "      <td>37.040568</td>\n",
              "      <td>13.148872</td>\n",
              "      <td>28.496006</td>\n",
              "      <td>35.808924</td>\n",
              "    </tr>\n",
              "  </tbody>\n",
              "</table>\n",
              "</div>\n",
              "    <div class=\"colab-df-buttons\">\n",
              "\n",
              "  <div class=\"colab-df-container\">\n",
              "    <button class=\"colab-df-convert\" onclick=\"convertToInteractive('df-36760113-2f0d-441e-bd38-fb892ed32793')\"\n",
              "            title=\"Convert this dataframe to an interactive table.\"\n",
              "            style=\"display:none;\">\n",
              "\n",
              "  <svg xmlns=\"http://www.w3.org/2000/svg\" height=\"24px\" viewBox=\"0 -960 960 960\">\n",
              "    <path d=\"M120-120v-720h720v720H120Zm60-500h600v-160H180v160Zm220 220h160v-160H400v160Zm0 220h160v-160H400v160ZM180-400h160v-160H180v160Zm440 0h160v-160H620v160ZM180-180h160v-160H180v160Zm440 0h160v-160H620v160Z\"/>\n",
              "  </svg>\n",
              "    </button>\n",
              "\n",
              "  <style>\n",
              "    .colab-df-container {\n",
              "      display:flex;\n",
              "      gap: 12px;\n",
              "    }\n",
              "\n",
              "    .colab-df-convert {\n",
              "      background-color: #E8F0FE;\n",
              "      border: none;\n",
              "      border-radius: 50%;\n",
              "      cursor: pointer;\n",
              "      display: none;\n",
              "      fill: #1967D2;\n",
              "      height: 32px;\n",
              "      padding: 0 0 0 0;\n",
              "      width: 32px;\n",
              "    }\n",
              "\n",
              "    .colab-df-convert:hover {\n",
              "      background-color: #E2EBFA;\n",
              "      box-shadow: 0px 1px 2px rgba(60, 64, 67, 0.3), 0px 1px 3px 1px rgba(60, 64, 67, 0.15);\n",
              "      fill: #174EA6;\n",
              "    }\n",
              "\n",
              "    .colab-df-buttons div {\n",
              "      margin-bottom: 4px;\n",
              "    }\n",
              "\n",
              "    [theme=dark] .colab-df-convert {\n",
              "      background-color: #3B4455;\n",
              "      fill: #D2E3FC;\n",
              "    }\n",
              "\n",
              "    [theme=dark] .colab-df-convert:hover {\n",
              "      background-color: #434B5C;\n",
              "      box-shadow: 0px 1px 3px 1px rgba(0, 0, 0, 0.15);\n",
              "      filter: drop-shadow(0px 1px 2px rgba(0, 0, 0, 0.3));\n",
              "      fill: #FFFFFF;\n",
              "    }\n",
              "  </style>\n",
              "\n",
              "    <script>\n",
              "      const buttonEl =\n",
              "        document.querySelector('#df-36760113-2f0d-441e-bd38-fb892ed32793 button.colab-df-convert');\n",
              "      buttonEl.style.display =\n",
              "        google.colab.kernel.accessAllowed ? 'block' : 'none';\n",
              "\n",
              "      async function convertToInteractive(key) {\n",
              "        const element = document.querySelector('#df-36760113-2f0d-441e-bd38-fb892ed32793');\n",
              "        const dataTable =\n",
              "          await google.colab.kernel.invokeFunction('convertToInteractive',\n",
              "                                                    [key], {});\n",
              "        if (!dataTable) return;\n",
              "\n",
              "        const docLinkHtml = 'Like what you see? Visit the ' +\n",
              "          '<a target=\"_blank\" href=https://colab.research.google.com/notebooks/data_table.ipynb>data table notebook</a>'\n",
              "          + ' to learn more about interactive tables.';\n",
              "        element.innerHTML = '';\n",
              "        dataTable['output_type'] = 'display_data';\n",
              "        await google.colab.output.renderOutput(dataTable, element);\n",
              "        const docLink = document.createElement('div');\n",
              "        docLink.innerHTML = docLinkHtml;\n",
              "        element.appendChild(docLink);\n",
              "      }\n",
              "    </script>\n",
              "  </div>\n",
              "\n",
              "\n",
              "<div id=\"df-efcf3e8d-b06b-4e7b-880e-36f08e400a43\">\n",
              "  <button class=\"colab-df-quickchart\" onclick=\"quickchart('df-efcf3e8d-b06b-4e7b-880e-36f08e400a43')\"\n",
              "            title=\"Suggest charts\"\n",
              "            style=\"display:none;\">\n",
              "\n",
              "<svg xmlns=\"http://www.w3.org/2000/svg\" height=\"24px\"viewBox=\"0 0 24 24\"\n",
              "     width=\"24px\">\n",
              "    <g>\n",
              "        <path d=\"M19 3H5c-1.1 0-2 .9-2 2v14c0 1.1.9 2 2 2h14c1.1 0 2-.9 2-2V5c0-1.1-.9-2-2-2zM9 17H7v-7h2v7zm4 0h-2V7h2v10zm4 0h-2v-4h2v4z\"/>\n",
              "    </g>\n",
              "</svg>\n",
              "  </button>\n",
              "\n",
              "<style>\n",
              "  .colab-df-quickchart {\n",
              "      --bg-color: #E8F0FE;\n",
              "      --fill-color: #1967D2;\n",
              "      --hover-bg-color: #E2EBFA;\n",
              "      --hover-fill-color: #174EA6;\n",
              "      --disabled-fill-color: #AAA;\n",
              "      --disabled-bg-color: #DDD;\n",
              "  }\n",
              "\n",
              "  [theme=dark] .colab-df-quickchart {\n",
              "      --bg-color: #3B4455;\n",
              "      --fill-color: #D2E3FC;\n",
              "      --hover-bg-color: #434B5C;\n",
              "      --hover-fill-color: #FFFFFF;\n",
              "      --disabled-bg-color: #3B4455;\n",
              "      --disabled-fill-color: #666;\n",
              "  }\n",
              "\n",
              "  .colab-df-quickchart {\n",
              "    background-color: var(--bg-color);\n",
              "    border: none;\n",
              "    border-radius: 50%;\n",
              "    cursor: pointer;\n",
              "    display: none;\n",
              "    fill: var(--fill-color);\n",
              "    height: 32px;\n",
              "    padding: 0;\n",
              "    width: 32px;\n",
              "  }\n",
              "\n",
              "  .colab-df-quickchart:hover {\n",
              "    background-color: var(--hover-bg-color);\n",
              "    box-shadow: 0 1px 2px rgba(60, 64, 67, 0.3), 0 1px 3px 1px rgba(60, 64, 67, 0.15);\n",
              "    fill: var(--button-hover-fill-color);\n",
              "  }\n",
              "\n",
              "  .colab-df-quickchart-complete:disabled,\n",
              "  .colab-df-quickchart-complete:disabled:hover {\n",
              "    background-color: var(--disabled-bg-color);\n",
              "    fill: var(--disabled-fill-color);\n",
              "    box-shadow: none;\n",
              "  }\n",
              "\n",
              "  .colab-df-spinner {\n",
              "    border: 2px solid var(--fill-color);\n",
              "    border-color: transparent;\n",
              "    border-bottom-color: var(--fill-color);\n",
              "    animation:\n",
              "      spin 1s steps(1) infinite;\n",
              "  }\n",
              "\n",
              "  @keyframes spin {\n",
              "    0% {\n",
              "      border-color: transparent;\n",
              "      border-bottom-color: var(--fill-color);\n",
              "      border-left-color: var(--fill-color);\n",
              "    }\n",
              "    20% {\n",
              "      border-color: transparent;\n",
              "      border-left-color: var(--fill-color);\n",
              "      border-top-color: var(--fill-color);\n",
              "    }\n",
              "    30% {\n",
              "      border-color: transparent;\n",
              "      border-left-color: var(--fill-color);\n",
              "      border-top-color: var(--fill-color);\n",
              "      border-right-color: var(--fill-color);\n",
              "    }\n",
              "    40% {\n",
              "      border-color: transparent;\n",
              "      border-right-color: var(--fill-color);\n",
              "      border-top-color: var(--fill-color);\n",
              "    }\n",
              "    60% {\n",
              "      border-color: transparent;\n",
              "      border-right-color: var(--fill-color);\n",
              "    }\n",
              "    80% {\n",
              "      border-color: transparent;\n",
              "      border-right-color: var(--fill-color);\n",
              "      border-bottom-color: var(--fill-color);\n",
              "    }\n",
              "    90% {\n",
              "      border-color: transparent;\n",
              "      border-bottom-color: var(--fill-color);\n",
              "    }\n",
              "  }\n",
              "</style>\n",
              "\n",
              "  <script>\n",
              "    async function quickchart(key) {\n",
              "      const quickchartButtonEl =\n",
              "        document.querySelector('#' + key + ' button');\n",
              "      quickchartButtonEl.disabled = true;  // To prevent multiple clicks.\n",
              "      quickchartButtonEl.classList.add('colab-df-spinner');\n",
              "      try {\n",
              "        const charts = await google.colab.kernel.invokeFunction(\n",
              "            'suggestCharts', [key], {});\n",
              "      } catch (error) {\n",
              "        console.error('Error during call to suggestCharts:', error);\n",
              "      }\n",
              "      quickchartButtonEl.classList.remove('colab-df-spinner');\n",
              "      quickchartButtonEl.classList.add('colab-df-quickchart-complete');\n",
              "    }\n",
              "    (() => {\n",
              "      let quickchartButtonEl =\n",
              "        document.querySelector('#df-efcf3e8d-b06b-4e7b-880e-36f08e400a43 button');\n",
              "      quickchartButtonEl.style.display =\n",
              "        google.colab.kernel.accessAllowed ? 'block' : 'none';\n",
              "    })();\n",
              "  </script>\n",
              "</div>\n",
              "\n",
              "    </div>\n",
              "  </div>\n"
            ],
            "application/vnd.google.colaboratory.intrinsic+json": {
              "type": "dataframe",
              "variable_name": "X",
              "summary": "{\n  \"name\": \"X\",\n  \"rows\": 99,\n  \"fields\": [\n    {\n      \"column\": \"One\",\n      \"properties\": {\n        \"dtype\": \"number\",\n        \"std\": 0,\n        \"min\": 1,\n        \"max\": 1,\n        \"num_unique_values\": 1,\n        \"samples\": [\n          1\n        ],\n        \"semantic_type\": \"\",\n        \"description\": \"\"\n      }\n    },\n    {\n      \"column\": \"Loutput\",\n      \"properties\": {\n        \"dtype\": \"number\",\n        \"std\": 1.6965651746992199,\n        \"min\": 2.0794415416798357,\n        \"max\": 10.895219652910134,\n        \"num_unique_values\": 98,\n        \"samples\": [\n          9.135077887475635\n        ],\n        \"semantic_type\": \"\",\n        \"description\": \"\"\n      }\n    },\n    {\n      \"column\": \"Lplabor\",\n      \"properties\": {\n        \"dtype\": \"number\",\n        \"std\": 0.1602209879441173,\n        \"min\": 8.529811294139098,\n        \"max\": 9.287875340543016,\n        \"num_unique_values\": 99,\n        \"samples\": [\n          9.247009756333194\n        ],\n        \"semantic_type\": \"\",\n        \"description\": \"\"\n      }\n    },\n    {\n      \"column\": \"Lpfuel\",\n      \"properties\": {\n        \"dtype\": \"number\",\n        \"std\": 0.2808817479443194,\n        \"min\": 2.1972245773362196,\n        \"max\": 3.921014443444821,\n        \"num_unique_values\": 98,\n        \"samples\": [\n          3.2019493963940606\n        ],\n        \"semantic_type\": \"\",\n        \"description\": \"\"\n      }\n    },\n    {\n      \"column\": \"Lpkap\",\n      \"properties\": {\n        \"dtype\": \"number\",\n        \"std\": 0.1520320885754885,\n        \"min\": 3.6668127376860515,\n        \"max\": 4.522473163753461,\n        \"num_unique_values\": 81,\n        \"samples\": [\n          4.252700646483721\n        ],\n        \"semantic_type\": \"\",\n        \"description\": \"\"\n      }\n    },\n    {\n      \"column\": \"Loutput_sq\",\n      \"properties\": {\n        \"dtype\": \"number\",\n        \"std\": 24.59948903492675,\n        \"min\": 4.324077125263812,\n        \"max\": 118.70581128515921,\n        \"num_unique_values\": 98,\n        \"samples\": [\n          83.4496480102463\n        ],\n        \"semantic_type\": \"\",\n        \"description\": \"\"\n      }\n    },\n    {\n      \"column\": \"Lplabor_sq\",\n      \"properties\": {\n        \"dtype\": \"number\",\n        \"std\": 2.8688084759802805,\n        \"min\": 72.7576807136229,\n        \"max\": 86.26462834146704,\n        \"num_unique_values\": 99,\n        \"samples\": [\n          85.50718943372127\n        ],\n        \"semantic_type\": \"\",\n        \"description\": \"\"\n      }\n    },\n    {\n      \"column\": \"Lpfuel_sq\",\n      \"properties\": {\n        \"dtype\": \"number\",\n        \"std\": 1.8500126093368163,\n        \"min\": 4.827795843250328,\n        \"max\": 15.374354265702898,\n        \"num_unique_values\": 98,\n        \"samples\": [\n          10.252479937068289\n        ],\n        \"semantic_type\": \"\",\n        \"description\": \"\"\n      }\n    },\n    {\n      \"column\": \"Lpkap_sq\",\n      \"properties\": {\n        \"dtype\": \"number\",\n        \"std\": 1.2569746626635447,\n        \"min\": 13.445515653256676,\n        \"max\": 20.45276351687024,\n        \"num_unique_values\": 81,\n        \"samples\": [\n          18.085462788603056\n        ],\n        \"semantic_type\": \"\",\n        \"description\": \"\"\n      }\n    },\n    {\n      \"column\": \"Loutput_Lpfuel\",\n      \"properties\": {\n        \"dtype\": \"number\",\n        \"std\": 6.386752860013872,\n        \"min\": 6.010359104267457,\n        \"max\": 38.650190238697796,\n        \"num_unique_values\": 99,\n        \"samples\": [\n          32.63644317648544\n        ],\n        \"semantic_type\": \"\",\n        \"description\": \"\"\n      }\n    },\n    {\n      \"column\": \"Loutput_Lpkap\",\n      \"properties\": {\n        \"dtype\": \"number\",\n        \"std\": 7.554112253201532,\n        \"min\": 8.678634018015194,\n        \"max\": 47.520249646734506,\n        \"num_unique_values\": 99,\n        \"samples\": [\n          40.16567098136428\n        ],\n        \"semantic_type\": \"\",\n        \"description\": \"\"\n      }\n    },\n    {\n      \"column\": \"Loutput_Lplabor\",\n      \"properties\": {\n        \"dtype\": \"number\",\n        \"std\": 15.384504661451059,\n        \"min\": 18.37153802314801,\n        \"max\": 98.79868584020788,\n        \"num_unique_values\": 99,\n        \"samples\": [\n          84.34162978709824\n        ],\n        \"semantic_type\": \"\",\n        \"description\": \"\"\n      }\n    },\n    {\n      \"column\": \"Lpfuel_Lpkap\",\n      \"properties\": {\n        \"dtype\": \"number\",\n        \"std\": 1.3563638454672025,\n        \"min\": 9.646267571022511,\n        \"max\": 17.266837244241174,\n        \"num_unique_values\": 99,\n        \"samples\": [\n          15.757107652904518\n        ],\n        \"semantic_type\": \"\",\n        \"description\": \"\"\n      }\n    },\n    {\n      \"column\": \"Lpfuel_Lplabor\",\n      \"properties\": {\n        \"dtype\": \"number\",\n        \"std\": 2.7393337836254332,\n        \"min\": 19.79667625073292,\n        \"max\": 35.906497740500356,\n        \"num_unique_values\": 99,\n        \"samples\": [\n          33.08746269403377\n        ],\n        \"semantic_type\": \"\",\n        \"description\": \"\"\n      }\n    },\n    {\n      \"column\": \"Lpkap_Lplabor\",\n      \"properties\": {\n        \"dtype\": \"number\",\n        \"std\": 1.505004029007208,\n        \"min\": 33.18008189586121,\n        \"max\": 41.119192273088814,\n        \"num_unique_values\": 99,\n        \"samples\": [\n          40.72074070664219\n        ],\n        \"semantic_type\": \"\",\n        \"description\": \"\"\n      }\n    }\n  ]\n}"
            }
          },
          "metadata": {},
          "execution_count": 8
        }
      ],
      "source": [
        "# Definición de vector y matriz: Y y X\n",
        "Y = df[['Ltotcost']]\n",
        "\n",
        "# Definir la matriz de variables independientes\n",
        "df['One'] = 1\n",
        "X = df[['One', 'Loutput', 'Lplabor', 'Lpfuel', 'Lpkap',\n",
        "        'Loutput_sq', 'Lplabor_sq', 'Lpfuel_sq', 'Lpkap_sq',\n",
        "        'Loutput_Lpfuel', 'Loutput_Lpkap', 'Loutput_Lplabor',\n",
        "        'Lpfuel_Lpkap', 'Lpfuel_Lplabor', 'Lpkap_Lplabor']]\n",
        "\n",
        "# Verificar la matriz X\n",
        "X.head()"
      ]
    },
    {
      "cell_type": "code",
      "execution_count": null,
      "metadata": {
        "id": "5xbt4StFO7WQ",
        "colab": {
          "base_uri": "https://localhost:8080/"
        },
        "outputId": "bb0b31fb-2e4a-4150-b536-9ee55dbab6a2"
      },
      "outputs": [
        {
          "output_type": "stream",
          "name": "stdout",
          "text": [
            "                            OLS Regression Results                            \n",
            "==============================================================================\n",
            "Dep. Variable:               Ltotcost   R-squared:                       0.993\n",
            "Model:                            OLS   Adj. R-squared:                  0.992\n",
            "Method:                 Least Squares   F-statistic:                     819.2\n",
            "Date:                Sat, 29 Mar 2025   Prob (F-statistic):           1.81e-83\n",
            "Time:                        07:22:30   Log-Likelihood:                 66.215\n",
            "No. Observations:                  99   AIC:                            -102.4\n",
            "Df Residuals:                      84   BIC:                            -63.50\n",
            "Df Model:                          14                                         \n",
            "Covariance Type:            nonrobust                                         \n",
            "===================================================================================\n",
            "                      coef    std err          t      P>|t|      [0.025      0.975]\n",
            "-----------------------------------------------------------------------------------\n",
            "One               -82.7169     56.190     -1.472      0.145    -194.457      29.023\n",
            "Loutput            -0.3827      0.535     -0.715      0.476      -1.447       0.681\n",
            "Lplabor            12.6821     10.780      1.176      0.243      -8.755      34.119\n",
            "Lpfuel             -3.0493      4.042     -0.754      0.453     -11.088       4.989\n",
            "Lpkap              13.6614      9.002      1.518      0.133      -4.240      31.563\n",
            "Loutput_sq          0.0309      0.004      7.892      0.000       0.023       0.039\n",
            "Lplabor_sq         -0.3808      0.546     -0.697      0.488      -1.467       0.705\n",
            "Lpfuel_sq          -0.0097      0.108     -0.090      0.929      -0.225       0.206\n",
            "Lpkap_sq            0.3410      0.409      0.835      0.406      -0.472       1.153\n",
            "Loutput_Lpfuel      0.0837      0.038      2.197      0.031       0.008       0.160\n",
            "Loutput_Lpkap      -0.0871      0.058     -1.494      0.139      -0.203       0.029\n",
            "Loutput_Lplabor     0.0969      0.052      1.856      0.067      -0.007       0.201\n",
            "Lpfuel_Lpkap       -0.0025      0.453     -0.006      0.996      -0.903       0.898\n",
            "Lpfuel_Lplabor      0.3436      0.395      0.870      0.387      -0.441       1.129\n",
            "Lpkap_Lplabor      -1.7580      0.891     -1.973      0.052      -3.530       0.014\n",
            "==============================================================================\n",
            "Omnibus:                        3.692   Durbin-Watson:                   1.692\n",
            "Prob(Omnibus):                  0.158   Jarque-Bera (JB):                3.729\n",
            "Skew:                          -0.178   Prob(JB):                        0.155\n",
            "Kurtosis:                       3.881   Cond. No.                     6.42e+05\n",
            "==============================================================================\n",
            "\n",
            "Notes:\n",
            "[1] Standard Errors assume that the covariance matrix of the errors is correctly specified.\n",
            "[2] The condition number is large, 6.42e+05. This might indicate that there are\n",
            "strong multicollinearity or other numerical problems.\n"
          ]
        }
      ],
      "source": [
        "# Resporte de la estimación:\n",
        "est = sm.OLS(Y,X)\n",
        "est2 = est.fit()\n",
        "print(est2.summary())"
      ]
    },
    {
      "cell_type": "markdown",
      "metadata": {
        "id": "6ZD7-ZaCO7WQ"
      },
      "source": [
        "## 4. Pruebe cada una de las siguientes hipótesis\n",
        "\n",
        "En cada caso escriba sus conclusiones respecto a la prueba y qué significado tiene para la estimación, de acuerdo con el trabajo de Christensen y Greene (1976)"
      ]
    },
    {
      "cell_type": "code",
      "execution_count": null,
      "metadata": {
        "id": "rnN4d-wHO7WQ",
        "colab": {
          "base_uri": "https://localhost:8080/"
        },
        "outputId": "801078e3-c424-4437-b706-95c726089edd"
      },
      "outputs": [
        {
          "output_type": "stream",
          "name": "stdout",
          "text": [
            "                            OLS Regression Results                            \n",
            "==============================================================================\n",
            "Dep. Variable:               Ltotcost   R-squared:                       0.993\n",
            "Model:                            OLS   Adj. R-squared:                  0.992\n",
            "Method:                 Least Squares   F-statistic:                     819.2\n",
            "Date:                Sat, 29 Mar 2025   Prob (F-statistic):           1.81e-83\n",
            "Time:                        07:22:33   Log-Likelihood:                 66.215\n",
            "No. Observations:                  99   AIC:                            -102.4\n",
            "Df Residuals:                      84   BIC:                            -63.50\n",
            "Df Model:                          14                                         \n",
            "Covariance Type:            nonrobust                                         \n",
            "===================================================================================\n",
            "                      coef    std err          t      P>|t|      [0.025      0.975]\n",
            "-----------------------------------------------------------------------------------\n",
            "Intercept         -41.3585     28.095     -1.472      0.145     -97.228      14.511\n",
            "One               -41.3585     28.095     -1.472      0.145     -97.228      14.511\n",
            "Loutput            -0.3827      0.535     -0.715      0.476      -1.447       0.681\n",
            "Lplabor            12.6821     10.780      1.176      0.243      -8.755      34.119\n",
            "Lpfuel             -3.0493      4.042     -0.754      0.453     -11.088       4.989\n",
            "Lpkap              13.6614      9.002      1.518      0.133      -4.240      31.563\n",
            "Loutput_sq          0.0309      0.004      7.892      0.000       0.023       0.039\n",
            "Lplabor_sq         -0.3808      0.546     -0.697      0.488      -1.467       0.705\n",
            "Lpfuel_sq          -0.0097      0.108     -0.090      0.929      -0.225       0.206\n",
            "Lpkap_sq            0.3410      0.409      0.835      0.406      -0.472       1.153\n",
            "Loutput_Lpfuel      0.0837      0.038      2.197      0.031       0.008       0.160\n",
            "Loutput_Lpkap      -0.0871      0.058     -1.494      0.139      -0.203       0.029\n",
            "Loutput_Lplabor     0.0969      0.052      1.856      0.067      -0.007       0.201\n",
            "Lpfuel_Lpkap       -0.0025      0.453     -0.006      0.996      -0.903       0.898\n",
            "Lpfuel_Lplabor      0.3436      0.395      0.870      0.387      -0.441       1.129\n",
            "Lpkap_Lplabor      -1.7580      0.891     -1.973      0.052      -3.530       0.014\n",
            "==============================================================================\n",
            "Omnibus:                        3.692   Durbin-Watson:                   1.692\n",
            "Prob(Omnibus):                  0.158   Jarque-Bera (JB):                3.729\n",
            "Skew:                          -0.178   Prob(JB):                        0.155\n",
            "Kurtosis:                       3.881   Cond. No.                     1.74e+17\n",
            "==============================================================================\n",
            "\n",
            "Notes:\n",
            "[1] Standard Errors assume that the covariance matrix of the errors is correctly specified.\n",
            "[2] The smallest eigenvalue is 7.47e-29. This might indicate that there are\n",
            "strong multicollinearity problems or that the design matrix is singular.\n"
          ]
        }
      ],
      "source": [
        "import statsmodels.api as sm\n",
        "import statsmodels.formula.api as smf\n",
        "\n",
        "# Establecemos la fórmula de la ecuación estimada correctamente\n",
        "formula = 'Ltotcost ~ One + Loutput + Lplabor + Lpfuel + Lpkap + \\\n",
        "           Loutput_sq + Lplabor_sq + Lpfuel_sq + Lpkap_sq + \\\n",
        "           Loutput_Lpfuel + Loutput_Lpkap + Loutput_Lplabor + \\\n",
        "           Lpfuel_Lpkap + Lpfuel_Lplabor + Lpkap_Lplabor'\n",
        "\n",
        "# Ajustamos el modelo usando la fórmula\n",
        "results = smf.ols(formula, data=df).fit()\n",
        "\n",
        "# Mostramos el resumen del modelo\n",
        "print(results.summary())\n"
      ]
    },
    {
      "cell_type": "markdown",
      "metadata": {
        "id": "aUxq9PRSO7WQ"
      },
      "source": [
        "### 4.1\n",
        "$$H_0: \\sum_k \\alpha_k = 1$$"
      ]
    },
    {
      "cell_type": "code",
      "execution_count": null,
      "metadata": {
        "id": "Ly_JbJM3O7WQ",
        "colab": {
          "base_uri": "https://localhost:8080/"
        },
        "outputId": "fa1ad585-d8a2-4909-90f0-3477fead7a7b"
      },
      "outputs": [
        {
          "output_type": "stream",
          "name": "stdout",
          "text": [
            "<F test: F=array([[2.11309194]]), p=0.14977001510743282, df_denom=84, df_num=1>\n"
          ]
        }
      ],
      "source": [
        "# Definir la restricción lineal: α_plabor + α_pfuel + α_pkap = 1\n",
        "restriction = 'Lplabor + Lpfuel + Lpkap = 1'\n",
        "\n",
        "# Aplicar el test de Wald\n",
        "wald_test = results.wald_test(restriction)\n",
        "\n",
        "print(wald_test)\n"
      ]
    },
    {
      "cell_type": "code",
      "execution_count": null,
      "metadata": {
        "id": "DcSLVcIZO7WR",
        "colab": {
          "base_uri": "https://localhost:8080/"
        },
        "outputId": "9d03d0b7-5020-48de-d182-badc783672e2"
      },
      "outputs": [
        {
          "output_type": "stream",
          "name": "stdout",
          "text": [
            "                             Test for Constraints                             \n",
            "==============================================================================\n",
            "                 coef    std err          t      P>|t|      [0.025      0.975]\n",
            "------------------------------------------------------------------------------\n",
            "c0            23.2943     15.337      1.454      0.150      -7.205      53.793\n",
            "==============================================================================\n"
          ]
        }
      ],
      "source": [
        "# Prueba de la hipótesis:\n",
        "hypotheses_1 = 'Lplabor + Lpfuel + Lpkap = 1'\n",
        "t_test_1 = results.t_test(hypotheses_1)\n",
        "print(t_test_1)"
      ]
    },
    {
      "cell_type": "markdown",
      "source": [
        "En la Hipotesis 4.1 dado que el p-value 0.1497 es mayor que 0.05, no se rechaza la hipótesis nula al 5% de significancia. Lo que muestra que no hay suficiente evidencia estadística para afirmar que la función de costos no es homogénea de grado uno.\n",
        "\n",
        "Según Christensen y Greene (1976),  la homogeneidad de grado uno en los precios de los insumos es una propiedad fundamental en muchas funciones de costos, esto por que asegura que los costos responden de manera proporcional a a cambios en todos los precios de los insumos.\n",
        "\n",
        "No se rechaza la hipótesis nula, lo que significa que la restricción $$H_0: \\sum_k \\alpha_k = 1$$ no es incompatible con los datos."
      ],
      "metadata": {
        "id": "jej-YFqgd8ba"
      }
    },
    {
      "cell_type": "markdown",
      "metadata": {
        "id": "IFTd37YNO7WR"
      },
      "source": [
        "### 4.2\n",
        "$$H_0: \\sum_k \\gamma_{Yk} = 0$$"
      ]
    },
    {
      "cell_type": "code",
      "execution_count": null,
      "metadata": {
        "id": "5Tc8stkbO7WR",
        "colab": {
          "base_uri": "https://localhost:8080/"
        },
        "outputId": "f3d0c9d8-997c-4c04-865b-7feda844cf40"
      },
      "outputs": [
        {
          "output_type": "stream",
          "name": "stdout",
          "text": [
            "<F test: F=array([[1.32517912]]), p=0.25293090994119916, df_denom=84, df_num=1>\n"
          ]
        }
      ],
      "source": [
        "# Establecemos la hipótesis\n",
        "hypotheses_2 = 'Loutput_Lpfuel + Loutput_Lpkap + Loutput_Lplabor = 0'\n",
        "\n",
        "# Realizar la prueba de Wald\n",
        "wald_test_result = results.wald_test(hypotheses_2)\n",
        "\n",
        "# Mostrar el resultado de la prueba\n",
        "print(wald_test_result)"
      ]
    },
    {
      "cell_type": "code",
      "execution_count": null,
      "metadata": {
        "id": "3bIFjqhwO7WR",
        "colab": {
          "base_uri": "https://localhost:8080/"
        },
        "outputId": "f181215d-9f3a-4cb6-8533-0ce7d4105077"
      },
      "outputs": [
        {
          "output_type": "stream",
          "name": "stdout",
          "text": [
            "                             Test for Constraints                             \n",
            "==============================================================================\n",
            "                 coef    std err          t      P>|t|      [0.025      0.975]\n",
            "------------------------------------------------------------------------------\n",
            "c0             0.0935      0.081      1.151      0.253      -0.068       0.255\n",
            "==============================================================================\n"
          ]
        }
      ],
      "source": [
        "# Prueba de la hipótesis:\n",
        "t_test_2 = results.t_test(hypotheses_2)\n",
        "print(t_test_2)"
      ]
    },
    {
      "cell_type": "markdown",
      "source": [
        "En la Hipotesis 4.2 se evalua si el costo total responde de manera separable a la producción y los precios de los insumos. En pocas palabras muestra si el efecto conjunto de la producción y los precios de los insumos en el costo total es insignificante. En este caso el p-value es 0.253, no se rechaza la hipótesis nula al 5% de significancia. Mostrando que no hay suficiente evidencia estadistica para decir que  la interacción entre el producto y los precios de los insumos afecta significativamente el costo total. Para Christensen y Greene, la función de costos translog permite la flexibilidad de los coeficientes de interacción, principalmente para capturar efectos cruzados entre la producción y los precios de los insumos. Pero si estos terminos no son significativos, puede indicar que La función de costos podría simplificarse eliminando estos términos de interacción y que el costo total puede depender de manera separada de de los precios de los insumos y del producto, sugiriendo que la evidncia para argumentar la exisitencia de complementariedad o sustitución entre la producción y los insumos en la función de costos estimada no es fuerte."
      ],
      "metadata": {
        "id": "TbgKJDRYjbnJ"
      }
    },
    {
      "cell_type": "markdown",
      "metadata": {
        "id": "1SQR9H6bO7WR"
      },
      "source": [
        "### 4.3\n",
        "$$H_0: \\sum_{k} \\gamma_{kj} = \\sum_{j} \\gamma_{kj} = \\sum_{k} \\sum_{j} \\gamma_{kj} = 0$$"
      ]
    },
    {
      "cell_type": "code",
      "execution_count": null,
      "metadata": {
        "id": "8VG39HC_O7WR",
        "colab": {
          "base_uri": "https://localhost:8080/"
        },
        "outputId": "8c50dc9c-a8dc-4da1-c8bf-6a167ade0f12"
      },
      "outputs": [
        {
          "output_type": "stream",
          "name": "stdout",
          "text": [
            "<F test: F=array([[1.78298481]]), p=0.18539052696968522, df_denom=84, df_num=1>\n"
          ]
        }
      ],
      "source": [
        "# Establecemos la hipótesis\n",
        "hypothesis_3 = 'Lpfuel_sq + Lpkap_sq + Lplabor_sq + Lpfuel_Lpkap + Lpfuel_Lplabor + Lpkap_Lplabor = 0'\n",
        "wald_test_result = results.wald_test(hypothesis_3)\n",
        "print(wald_test_result)"
      ]
    },
    {
      "cell_type": "code",
      "execution_count": null,
      "metadata": {
        "id": "-jBd-LFGO7WR",
        "colab": {
          "base_uri": "https://localhost:8080/"
        },
        "outputId": "827f9f0e-e3ed-406b-aa26-fe63d735a6b5"
      },
      "outputs": [
        {
          "output_type": "stream",
          "name": "stdout",
          "text": [
            "                             Test for Constraints                             \n",
            "==============================================================================\n",
            "                 coef    std err          t      P>|t|      [0.025      0.975]\n",
            "------------------------------------------------------------------------------\n",
            "c0            -1.4666      1.098     -1.335      0.185      -3.651       0.718\n",
            "==============================================================================\n"
          ]
        }
      ],
      "source": [
        "# Prueba de la hipótesis:\n",
        "t_test_3 = results.t_test(hypothesis_3)\n",
        "print(t_test_3)"
      ]
    },
    {
      "cell_type": "markdown",
      "source": [
        "En la hipotesis 4.3 el p-valor es 0.185, es mayor que 0.05, no se rechaza la hipótesis, no hay suficiente evidencia estadística para afirmar que las interacciones entre los precios de los insumos afectan significativamente el costo total. Para Christensen y Greene, en una función de costos translog, la interaccion que hay entre los precios de los insumos permite modelar efectos de complementariedad o sustitución entre estos insumos, pero si los coeficientes no son signiicativos sugiere que Los precios de los insumos afectan el costo total de forma independiente, sin interacciones significativas entre ellos."
      ],
      "metadata": {
        "id": "qDM_UQlEl2oK"
      }
    },
    {
      "cell_type": "markdown",
      "metadata": {
        "id": "7UUTRdyyO7WR"
      },
      "source": [
        "## 5. Dadas sus conclusiones en las pruebas de hipótesis anteriores, ¿considere si debe ajustar la función de costos del tipo translog descrita anteriormente?, en su caso ajuste la siguiente expresión a la forma que debería estimar:\n",
        "\n",
        "$$ln(C) = \\alpha_0 +  \\alpha_Y ln(Y) + \\frac{1}{2} \\gamma_{YY} (ln(Y))^2 + \\sum_k \\alpha_k ln(P_{k}) + \\frac{1}{2} \\sum_k \\sum_j \\gamma_{kj} ln(P_k) ln(P_j) + \\sum_k \\gamma_{Yk} ln(Y) ln(P_k) + \\varepsilon_i$$\n",
        "\n",
        "## Estime la nueva propuesta"
      ]
    },
    {
      "cell_type": "code",
      "execution_count": null,
      "metadata": {
        "id": "wAHxszzYO7WR",
        "colab": {
          "base_uri": "https://localhost:8080/"
        },
        "outputId": "b8d61b98-85a2-447f-a367-fbab18cf8440"
      },
      "outputs": [
        {
          "output_type": "stream",
          "name": "stdout",
          "text": [
            "                            OLS Regression Results                            \n",
            "==============================================================================\n",
            "Dep. Variable:               Ltotcost   R-squared:                       0.992\n",
            "Model:                            OLS   Adj. R-squared:                  0.991\n",
            "Method:                 Least Squares   F-statistic:                     1427.\n",
            "Date:                Sat, 29 Mar 2025   Prob (F-statistic):           2.65e-91\n",
            "Time:                        07:22:52   Log-Likelihood:                 62.611\n",
            "No. Observations:                  99   AIC:                            -107.2\n",
            "Df Residuals:                      90   BIC:                            -83.87\n",
            "Df Model:                           8                                         \n",
            "Covariance Type:            nonrobust                                         \n",
            "===================================================================================\n",
            "                      coef    std err          t      P>|t|      [0.025      0.975]\n",
            "-----------------------------------------------------------------------------------\n",
            "Intercept          -0.3253      2.177     -0.149      0.882      -4.650       3.999\n",
            "One                -0.3253      2.177     -0.149      0.882      -4.650       3.999\n",
            "Loutput            -0.3905      0.509     -0.767      0.445      -1.402       0.621\n",
            "Lplabor            -0.3891      0.411     -0.947      0.346      -1.206       0.427\n",
            "Lpfuel              0.0863      0.291      0.297      0.767      -0.491       0.664\n",
            "Lpkap               0.3543      0.397      0.893      0.374      -0.434       1.143\n",
            "Loutput_sq          0.0320      0.004      8.689      0.000       0.025       0.039\n",
            "Loutput_Lpfuel      0.0703      0.036      1.977      0.051      -0.000       0.141\n",
            "Loutput_Lpkap      -0.0433      0.054     -0.797      0.427      -0.151       0.065\n",
            "Loutput_Lplabor     0.0798      0.048      1.674      0.098      -0.015       0.174\n",
            "==============================================================================\n",
            "Omnibus:                        2.300   Durbin-Watson:                   1.771\n",
            "Prob(Omnibus):                  0.317   Jarque-Bera (JB):                1.832\n",
            "Skew:                          -0.136   Prob(JB):                        0.400\n",
            "Kurtosis:                       3.609   Cond. No.                     6.58e+17\n",
            "==============================================================================\n",
            "\n",
            "Notes:\n",
            "[1] Standard Errors assume that the covariance matrix of the errors is correctly specified.\n",
            "[2] The smallest eigenvalue is 3.12e-30. This might indicate that there are\n",
            "strong multicollinearity problems or that the design matrix is singular.\n"
          ]
        }
      ],
      "source": [
        "# Definición de vector y matriz: Y y X\n",
        "\n",
        "\n",
        "Y = [\"Ltotcost\"]\n",
        "X = [\"One\", \"Loutput\", \"Lplabor\", \"Lpfuel\", \"Lpkap\", \"Loutput_sq\",\n",
        "     \"Loutput_Lpfuel\", \"Loutput_Lpkap\", \"Loutput_Lplabor\"]\n",
        "\n",
        "formula_simplificada = 'Ltotcost ~ One + Loutput + Lplabor + Lpfuel + Lpkap + \\\n",
        "                        Loutput_sq + Loutput_Lpfuel + Loutput_Lpkap + Loutput_Lplabor'\n",
        "\n",
        "# Ajustar el modelo\n",
        "results_simplificado = smf.ols(formula=formula_simplificada, data=df).fit()\n",
        "\n",
        "# resumen\n",
        "print(results_simplificado.summary())"
      ]
    },
    {
      "cell_type": "code",
      "execution_count": null,
      "metadata": {
        "id": "RIUki8imO7WS",
        "colab": {
          "base_uri": "https://localhost:8080/"
        },
        "outputId": "c9483872-6283-4f32-a993-b3585350e77b"
      },
      "outputs": [
        {
          "output_type": "stream",
          "name": "stdout",
          "text": [
            "                            OLS Regression Results                            \n",
            "==============================================================================\n",
            "Dep. Variable:               Ltotcost   R-squared:                       0.992\n",
            "Model:                            OLS   Adj. R-squared:                  0.991\n",
            "Method:                 Least Squares   F-statistic:                     1427.\n",
            "Date:                Sat, 29 Mar 2025   Prob (F-statistic):           2.65e-91\n",
            "Time:                        07:25:09   Log-Likelihood:                 62.611\n",
            "No. Observations:                  99   AIC:                            -107.2\n",
            "Df Residuals:                      90   BIC:                            -83.87\n",
            "Df Model:                           8                                         \n",
            "Covariance Type:            nonrobust                                         \n",
            "===================================================================================\n",
            "                      coef    std err          t      P>|t|      [0.025      0.975]\n",
            "-----------------------------------------------------------------------------------\n",
            "One                -0.6506      4.354     -0.149      0.882      -9.300       7.999\n",
            "Loutput            -0.3905      0.509     -0.767      0.445      -1.402       0.621\n",
            "Lplabor            -0.3891      0.411     -0.947      0.346      -1.206       0.427\n",
            "Lpfuel              0.0863      0.291      0.297      0.767      -0.491       0.664\n",
            "Lpkap               0.3543      0.397      0.893      0.374      -0.434       1.143\n",
            "Loutput_sq          0.0320      0.004      8.689      0.000       0.025       0.039\n",
            "Loutput_Lpfuel      0.0703      0.036      1.977      0.051      -0.000       0.141\n",
            "Loutput_Lpkap      -0.0433      0.054     -0.797      0.427      -0.151       0.065\n",
            "Loutput_Lplabor     0.0798      0.048      1.674      0.098      -0.015       0.174\n",
            "==============================================================================\n",
            "Omnibus:                        2.300   Durbin-Watson:                   1.771\n",
            "Prob(Omnibus):                  0.317   Jarque-Bera (JB):                1.832\n",
            "Skew:                          -0.136   Prob(JB):                        0.400\n",
            "Kurtosis:                       3.609   Cond. No.                     3.80e+04\n",
            "==============================================================================\n",
            "\n",
            "Notes:\n",
            "[1] Standard Errors assume that the covariance matrix of the errors is correctly specified.\n",
            "[2] The condition number is large, 3.8e+04. This might indicate that there are\n",
            "strong multicollinearity or other numerical problems.\n"
          ]
        }
      ],
      "source": [
        "# Resporte de la estimación:\n",
        "# Definir la variable dependiente (Y) y las independientes (X)\n",
        "Y = df[\"Ltotcost\"]  # Ahora Y es una serie numérica\n",
        "X = df[[\"One\", \"Loutput\", \"Lplabor\", \"Lpfuel\", \"Lpkap\", \"Loutput_sq\",\n",
        "        \"Loutput_Lpfuel\", \"Loutput_Lpkap\", \"Loutput_Lplabor\"]]  # X es un DataFrame\n",
        "\n",
        "\n",
        "X = sm.add_constant(X)\n",
        "\n",
        "est = sm.OLS(Y, X)\n",
        "est2 = est.fit()\n",
        "\n",
        "# Mostrar el resumen del modelo\n",
        "print(est2.summary())\n"
      ]
    },
    {
      "cell_type": "code",
      "source": [
        "#Nueva Funcion de costos\n",
        "import statsmodels.api as sm\n",
        "\n",
        "# Definir las nuevas variables a incluir en el modelo ajustado\n",
        "X_new = df[[\"One\", \"Loutput\", \"Lplabor\", \"Lpfuel\", \"Lpkap\", \"Loutput_sq\", \"Loutput_Lpfuel\"]]\n",
        "\n",
        "# Agregar constante\n",
        "X_new = sm.add_constant(X_new)\n",
        "\n",
        "# Variable dependiente\n",
        "Y = df[\"Ltotcost\"]\n",
        "\n",
        "# Estimación del nuevo modelo\n",
        "model_new = sm.OLS(Y, X_new)\n",
        "results_new = model_new.fit()\n",
        "\n",
        "# Mostrar resumen\n",
        "print(results_new.summary())\n"
      ],
      "metadata": {
        "colab": {
          "base_uri": "https://localhost:8080/"
        },
        "id": "hlIwXAU5zfJO",
        "outputId": "1c151ee0-5b7c-48e0-a2d3-f19659c8d19c"
      },
      "execution_count": null,
      "outputs": [
        {
          "output_type": "stream",
          "name": "stdout",
          "text": [
            "                            OLS Regression Results                            \n",
            "==============================================================================\n",
            "Dep. Variable:               Ltotcost   R-squared:                       0.992\n",
            "Model:                            OLS   Adj. R-squared:                  0.991\n",
            "Method:                 Least Squares   F-statistic:                     1850.\n",
            "Date:                Sat, 29 Mar 2025   Prob (F-statistic):           1.34e-93\n",
            "Time:                        07:29:50   Log-Likelihood:                 60.151\n",
            "No. Observations:                  99   AIC:                            -106.3\n",
            "Df Residuals:                      92   BIC:                            -88.14\n",
            "Df Model:                           6                                         \n",
            "Covariance Type:            nonrobust                                         \n",
            "==================================================================================\n",
            "                     coef    std err          t      P>|t|      [0.025      0.975]\n",
            "----------------------------------------------------------------------------------\n",
            "One               -5.6483      1.378     -4.098      0.000      -8.386      -2.911\n",
            "Loutput            0.1405      0.103      1.361      0.177      -0.064       0.346\n",
            "Lplabor            0.2881      0.094      3.051      0.003       0.101       0.476\n",
            "Lpfuel             0.1824      0.278      0.655      0.514      -0.371       0.735\n",
            "Lpkap              0.0645      0.094      0.684      0.496      -0.123       0.252\n",
            "Loutput_sq         0.0343      0.004      9.775      0.000       0.027       0.041\n",
            "Loutput_Lpfuel     0.0585      0.034      1.738      0.086      -0.008       0.125\n",
            "==============================================================================\n",
            "Omnibus:                        1.880   Durbin-Watson:                   1.793\n",
            "Prob(Omnibus):                  0.391   Jarque-Bera (JB):                1.430\n",
            "Skew:                           0.011   Prob(JB):                        0.489\n",
            "Kurtosis:                       3.588   Cond. No.                     8.29e+03\n",
            "==============================================================================\n",
            "\n",
            "Notes:\n",
            "[1] Standard Errors assume that the covariance matrix of the errors is correctly specified.\n",
            "[2] The condition number is large, 8.29e+03. This might indicate that there are\n",
            "strong multicollinearity or other numerical problems.\n"
          ]
        }
      ]
    },
    {
      "cell_type": "markdown",
      "source": [
        "Ahora con los ajustes realizados, los resultados de la estimación de la nueva función de costos translog ajustada, muestran una R2=0.992 y R2 ajustado=0.991, mostrando que la apacidad explicativa del modelo sigue siendo muy alta, El F-statistic de 1850 con un p-value de 1.34e-93 puede confirmar que el modelo en su conjunto es altamente significativo. AIC y BIC mejoraron respecto al modelo anterior.\n",
        "\n",
        "Loutput_sq sigue siendo significativo ,Loutput no es estadísticamente significativo, Lpfuel y Lpkap tampoco son significativos, con p-valores altos.Lplabor es altamente significativo y Loutput_Lpfuel está en el límite de la significancia. en general se eliminaron terminos inecesarios lo que redujo la la multicolinealidad y mejorado la estabilidad del modelo.\n",
        "\n",
        "la prueba Durbin-Watson da 1.793, lo que indica que no hay un problema  de autocorrelación en los residuos."
      ],
      "metadata": {
        "id": "Mv1N14y_oNp2"
      }
    },
    {
      "cell_type": "markdown",
      "metadata": {
        "id": "FHK-Mou7O7WS"
      },
      "source": [
        "## 6. Determine el valor del Costo Total Estimado y el Costo Medio Estimado considerado cualquiera de las estimaciones que considere pertinente"
      ]
    },
    {
      "cell_type": "code",
      "execution_count": null,
      "metadata": {
        "id": "ulBa_hm7O7Wd",
        "colab": {
          "base_uri": "https://localhost:8080/",
          "height": 206
        },
        "outputId": "53368ab4-a6c4-44a5-f3fb-4ba997e57537"
      },
      "outputs": [
        {
          "output_type": "execute_result",
          "data": {
            "text/plain": [
              "   Ltotcost_est  totcost_e  avgcost_e\n",
              "0     -1.521668   0.218347   0.027293\n",
              "1     -0.965221   0.380899   0.027207\n",
              "2     -0.305755   0.736567   0.014731\n",
              "3     -0.315792   0.729211   0.011219\n",
              "4     -0.264500   0.767590   0.011457"
            ],
            "text/html": [
              "\n",
              "  <div id=\"df-aaef3c3a-3b54-40b9-bf96-3e1b6391a9cc\" class=\"colab-df-container\">\n",
              "    <div>\n",
              "<style scoped>\n",
              "    .dataframe tbody tr th:only-of-type {\n",
              "        vertical-align: middle;\n",
              "    }\n",
              "\n",
              "    .dataframe tbody tr th {\n",
              "        vertical-align: top;\n",
              "    }\n",
              "\n",
              "    .dataframe thead th {\n",
              "        text-align: right;\n",
              "    }\n",
              "</style>\n",
              "<table border=\"1\" class=\"dataframe\">\n",
              "  <thead>\n",
              "    <tr style=\"text-align: right;\">\n",
              "      <th></th>\n",
              "      <th>Ltotcost_est</th>\n",
              "      <th>totcost_e</th>\n",
              "      <th>avgcost_e</th>\n",
              "    </tr>\n",
              "  </thead>\n",
              "  <tbody>\n",
              "    <tr>\n",
              "      <th>0</th>\n",
              "      <td>-1.521668</td>\n",
              "      <td>0.218347</td>\n",
              "      <td>0.027293</td>\n",
              "    </tr>\n",
              "    <tr>\n",
              "      <th>1</th>\n",
              "      <td>-0.965221</td>\n",
              "      <td>0.380899</td>\n",
              "      <td>0.027207</td>\n",
              "    </tr>\n",
              "    <tr>\n",
              "      <th>2</th>\n",
              "      <td>-0.305755</td>\n",
              "      <td>0.736567</td>\n",
              "      <td>0.014731</td>\n",
              "    </tr>\n",
              "    <tr>\n",
              "      <th>3</th>\n",
              "      <td>-0.315792</td>\n",
              "      <td>0.729211</td>\n",
              "      <td>0.011219</td>\n",
              "    </tr>\n",
              "    <tr>\n",
              "      <th>4</th>\n",
              "      <td>-0.264500</td>\n",
              "      <td>0.767590</td>\n",
              "      <td>0.011457</td>\n",
              "    </tr>\n",
              "  </tbody>\n",
              "</table>\n",
              "</div>\n",
              "    <div class=\"colab-df-buttons\">\n",
              "\n",
              "  <div class=\"colab-df-container\">\n",
              "    <button class=\"colab-df-convert\" onclick=\"convertToInteractive('df-aaef3c3a-3b54-40b9-bf96-3e1b6391a9cc')\"\n",
              "            title=\"Convert this dataframe to an interactive table.\"\n",
              "            style=\"display:none;\">\n",
              "\n",
              "  <svg xmlns=\"http://www.w3.org/2000/svg\" height=\"24px\" viewBox=\"0 -960 960 960\">\n",
              "    <path d=\"M120-120v-720h720v720H120Zm60-500h600v-160H180v160Zm220 220h160v-160H400v160Zm0 220h160v-160H400v160ZM180-400h160v-160H180v160Zm440 0h160v-160H620v160ZM180-180h160v-160H180v160Zm440 0h160v-160H620v160Z\"/>\n",
              "  </svg>\n",
              "    </button>\n",
              "\n",
              "  <style>\n",
              "    .colab-df-container {\n",
              "      display:flex;\n",
              "      gap: 12px;\n",
              "    }\n",
              "\n",
              "    .colab-df-convert {\n",
              "      background-color: #E8F0FE;\n",
              "      border: none;\n",
              "      border-radius: 50%;\n",
              "      cursor: pointer;\n",
              "      display: none;\n",
              "      fill: #1967D2;\n",
              "      height: 32px;\n",
              "      padding: 0 0 0 0;\n",
              "      width: 32px;\n",
              "    }\n",
              "\n",
              "    .colab-df-convert:hover {\n",
              "      background-color: #E2EBFA;\n",
              "      box-shadow: 0px 1px 2px rgba(60, 64, 67, 0.3), 0px 1px 3px 1px rgba(60, 64, 67, 0.15);\n",
              "      fill: #174EA6;\n",
              "    }\n",
              "\n",
              "    .colab-df-buttons div {\n",
              "      margin-bottom: 4px;\n",
              "    }\n",
              "\n",
              "    [theme=dark] .colab-df-convert {\n",
              "      background-color: #3B4455;\n",
              "      fill: #D2E3FC;\n",
              "    }\n",
              "\n",
              "    [theme=dark] .colab-df-convert:hover {\n",
              "      background-color: #434B5C;\n",
              "      box-shadow: 0px 1px 3px 1px rgba(0, 0, 0, 0.15);\n",
              "      filter: drop-shadow(0px 1px 2px rgba(0, 0, 0, 0.3));\n",
              "      fill: #FFFFFF;\n",
              "    }\n",
              "  </style>\n",
              "\n",
              "    <script>\n",
              "      const buttonEl =\n",
              "        document.querySelector('#df-aaef3c3a-3b54-40b9-bf96-3e1b6391a9cc button.colab-df-convert');\n",
              "      buttonEl.style.display =\n",
              "        google.colab.kernel.accessAllowed ? 'block' : 'none';\n",
              "\n",
              "      async function convertToInteractive(key) {\n",
              "        const element = document.querySelector('#df-aaef3c3a-3b54-40b9-bf96-3e1b6391a9cc');\n",
              "        const dataTable =\n",
              "          await google.colab.kernel.invokeFunction('convertToInteractive',\n",
              "                                                    [key], {});\n",
              "        if (!dataTable) return;\n",
              "\n",
              "        const docLinkHtml = 'Like what you see? Visit the ' +\n",
              "          '<a target=\"_blank\" href=https://colab.research.google.com/notebooks/data_table.ipynb>data table notebook</a>'\n",
              "          + ' to learn more about interactive tables.';\n",
              "        element.innerHTML = '';\n",
              "        dataTable['output_type'] = 'display_data';\n",
              "        await google.colab.output.renderOutput(dataTable, element);\n",
              "        const docLink = document.createElement('div');\n",
              "        docLink.innerHTML = docLinkHtml;\n",
              "        element.appendChild(docLink);\n",
              "      }\n",
              "    </script>\n",
              "  </div>\n",
              "\n",
              "\n",
              "<div id=\"df-cb6c7941-888a-4963-b4b0-2f361eb6adef\">\n",
              "  <button class=\"colab-df-quickchart\" onclick=\"quickchart('df-cb6c7941-888a-4963-b4b0-2f361eb6adef')\"\n",
              "            title=\"Suggest charts\"\n",
              "            style=\"display:none;\">\n",
              "\n",
              "<svg xmlns=\"http://www.w3.org/2000/svg\" height=\"24px\"viewBox=\"0 0 24 24\"\n",
              "     width=\"24px\">\n",
              "    <g>\n",
              "        <path d=\"M19 3H5c-1.1 0-2 .9-2 2v14c0 1.1.9 2 2 2h14c1.1 0 2-.9 2-2V5c0-1.1-.9-2-2-2zM9 17H7v-7h2v7zm4 0h-2V7h2v10zm4 0h-2v-4h2v4z\"/>\n",
              "    </g>\n",
              "</svg>\n",
              "  </button>\n",
              "\n",
              "<style>\n",
              "  .colab-df-quickchart {\n",
              "      --bg-color: #E8F0FE;\n",
              "      --fill-color: #1967D2;\n",
              "      --hover-bg-color: #E2EBFA;\n",
              "      --hover-fill-color: #174EA6;\n",
              "      --disabled-fill-color: #AAA;\n",
              "      --disabled-bg-color: #DDD;\n",
              "  }\n",
              "\n",
              "  [theme=dark] .colab-df-quickchart {\n",
              "      --bg-color: #3B4455;\n",
              "      --fill-color: #D2E3FC;\n",
              "      --hover-bg-color: #434B5C;\n",
              "      --hover-fill-color: #FFFFFF;\n",
              "      --disabled-bg-color: #3B4455;\n",
              "      --disabled-fill-color: #666;\n",
              "  }\n",
              "\n",
              "  .colab-df-quickchart {\n",
              "    background-color: var(--bg-color);\n",
              "    border: none;\n",
              "    border-radius: 50%;\n",
              "    cursor: pointer;\n",
              "    display: none;\n",
              "    fill: var(--fill-color);\n",
              "    height: 32px;\n",
              "    padding: 0;\n",
              "    width: 32px;\n",
              "  }\n",
              "\n",
              "  .colab-df-quickchart:hover {\n",
              "    background-color: var(--hover-bg-color);\n",
              "    box-shadow: 0 1px 2px rgba(60, 64, 67, 0.3), 0 1px 3px 1px rgba(60, 64, 67, 0.15);\n",
              "    fill: var(--button-hover-fill-color);\n",
              "  }\n",
              "\n",
              "  .colab-df-quickchart-complete:disabled,\n",
              "  .colab-df-quickchart-complete:disabled:hover {\n",
              "    background-color: var(--disabled-bg-color);\n",
              "    fill: var(--disabled-fill-color);\n",
              "    box-shadow: none;\n",
              "  }\n",
              "\n",
              "  .colab-df-spinner {\n",
              "    border: 2px solid var(--fill-color);\n",
              "    border-color: transparent;\n",
              "    border-bottom-color: var(--fill-color);\n",
              "    animation:\n",
              "      spin 1s steps(1) infinite;\n",
              "  }\n",
              "\n",
              "  @keyframes spin {\n",
              "    0% {\n",
              "      border-color: transparent;\n",
              "      border-bottom-color: var(--fill-color);\n",
              "      border-left-color: var(--fill-color);\n",
              "    }\n",
              "    20% {\n",
              "      border-color: transparent;\n",
              "      border-left-color: var(--fill-color);\n",
              "      border-top-color: var(--fill-color);\n",
              "    }\n",
              "    30% {\n",
              "      border-color: transparent;\n",
              "      border-left-color: var(--fill-color);\n",
              "      border-top-color: var(--fill-color);\n",
              "      border-right-color: var(--fill-color);\n",
              "    }\n",
              "    40% {\n",
              "      border-color: transparent;\n",
              "      border-right-color: var(--fill-color);\n",
              "      border-top-color: var(--fill-color);\n",
              "    }\n",
              "    60% {\n",
              "      border-color: transparent;\n",
              "      border-right-color: var(--fill-color);\n",
              "    }\n",
              "    80% {\n",
              "      border-color: transparent;\n",
              "      border-right-color: var(--fill-color);\n",
              "      border-bottom-color: var(--fill-color);\n",
              "    }\n",
              "    90% {\n",
              "      border-color: transparent;\n",
              "      border-bottom-color: var(--fill-color);\n",
              "    }\n",
              "  }\n",
              "</style>\n",
              "\n",
              "  <script>\n",
              "    async function quickchart(key) {\n",
              "      const quickchartButtonEl =\n",
              "        document.querySelector('#' + key + ' button');\n",
              "      quickchartButtonEl.disabled = true;  // To prevent multiple clicks.\n",
              "      quickchartButtonEl.classList.add('colab-df-spinner');\n",
              "      try {\n",
              "        const charts = await google.colab.kernel.invokeFunction(\n",
              "            'suggestCharts', [key], {});\n",
              "      } catch (error) {\n",
              "        console.error('Error during call to suggestCharts:', error);\n",
              "      }\n",
              "      quickchartButtonEl.classList.remove('colab-df-spinner');\n",
              "      quickchartButtonEl.classList.add('colab-df-quickchart-complete');\n",
              "    }\n",
              "    (() => {\n",
              "      let quickchartButtonEl =\n",
              "        document.querySelector('#df-cb6c7941-888a-4963-b4b0-2f361eb6adef button');\n",
              "      quickchartButtonEl.style.display =\n",
              "        google.colab.kernel.accessAllowed ? 'block' : 'none';\n",
              "    })();\n",
              "  </script>\n",
              "</div>\n",
              "\n",
              "    </div>\n",
              "  </div>\n"
            ],
            "application/vnd.google.colaboratory.intrinsic+json": {
              "type": "dataframe",
              "summary": "{\n  \"name\": \"df[['Ltotcost_est', 'totcost_e', 'avgcost_e']]\",\n  \"rows\": 5,\n  \"fields\": [\n    {\n      \"column\": \"Ltotcost_est\",\n      \"properties\": {\n        \"dtype\": \"number\",\n        \"std\": 0.5556431775569151,\n        \"min\": -1.5216682014764957,\n        \"max\": -0.2644995670825945,\n        \"num_unique_values\": 5,\n        \"samples\": [\n          -0.9652210170115698,\n          -0.2644995670825945,\n          -0.30575530424656794\n        ],\n        \"semantic_type\": \"\",\n        \"description\": \"\"\n      }\n    },\n    {\n      \"column\": \"totcost_e\",\n      \"properties\": {\n        \"dtype\": \"number\",\n        \"std\": 0.2507453465164012,\n        \"min\": 0.21834733561655448,\n        \"max\": 0.7675899811705641,\n        \"num_unique_values\": 5,\n        \"samples\": [\n          0.38089900527561965,\n          0.7675899811705641,\n          0.7365668321825104\n        ],\n        \"semantic_type\": \"\",\n        \"description\": \"\"\n      }\n    },\n    {\n      \"column\": \"avgcost_e\",\n      \"properties\": {\n        \"dtype\": \"number\",\n        \"std\": 0.008214285998726124,\n        \"min\": 0.011218637076146799,\n        \"max\": 0.02729341695206931,\n        \"num_unique_values\": 5,\n        \"samples\": [\n          0.027207071805401405,\n          0.011456566883142748,\n          0.014731336643650207\n        ],\n        \"semantic_type\": \"\",\n        \"description\": \"\"\n      }\n    }\n  ]\n}"
            }
          },
          "metadata": {},
          "execution_count": 23
        }
      ],
      "source": [
        "# Recuperamos de la regresión el valor del log del costo estimado\n",
        "df['Ltotcost_est'] = est2.predict(X)\n",
        "\n",
        "# Anti-log para obtener el costo total estimado\n",
        "df['totcost_e'] = np.exp(df['Ltotcost_est'])\n",
        "\n",
        "# Costo medio estimado\n",
        "df['avgcost_e'] = df['totcost_e'] / df['output']\n",
        "\n",
        "# Vemos los resultados\n",
        "df[['Ltotcost_est', 'totcost_e', 'avgcost_e']].head()\n"
      ]
    },
    {
      "cell_type": "markdown",
      "source": [
        "Podemos observar que Los costos estimados son relativamente bajos para estas observaciones, El costo medio estimado tiende a disminuir de la primera a la última observación listada, esto es indicativo de economías de escala en ese rango. En pocas palabras el modelo predice un costo total y un costo medio coherentes con la posibilidad de economías de escala."
      ],
      "metadata": {
        "id": "srXU3fzfuA9n"
      }
    },
    {
      "cell_type": "markdown",
      "metadata": {
        "id": "UaVjgIOgO7We"
      },
      "source": [
        "## 7. Gráfique su estimación de Costo Medio y el Costo Medio observado"
      ]
    },
    {
      "cell_type": "code",
      "execution_count": null,
      "metadata": {
        "id": "0OTtrbSsO7We",
        "colab": {
          "base_uri": "https://localhost:8080/",
          "height": 565
        },
        "outputId": "1fba45b2-5f38-4e5a-9a0c-d361ba01b1fb"
      },
      "outputs": [
        {
          "output_type": "display_data",
          "data": {
            "text/plain": [
              "<Figure size 800x600 with 1 Axes>"
            ],
            "image/png": "[encoded data removed]"
          },
          "metadata": {}
        }
      ],
      "source": [
        "# graficamos resultados:\n",
        "import matplotlib.pyplot as plt\n",
        "\n",
        "# Si no tienes el costo medio observado calculado, lo definimos:\n",
        "# Suponiendo que la columna 'costs' tiene el costo total observado\n",
        "df['avgcost'] = df['costs'] / df['output']\n",
        "\n",
        "# Creamos la figura\n",
        "plt.figure(figsize=(8,6))\n",
        "\n",
        "# Graficamos el costo medio observado (por ejemplo, en azul)\n",
        "plt.scatter(df['output'], df['avgcost'], s=40, color=\"blue\", label=\"Costo Medio Observado\")\n",
        "\n",
        "# Graficamos el costo medio estimado (por ejemplo, en rojo)\n",
        "plt.scatter(df['output'], df['avgcost_e'], s=40, color=\"red\", label=\"Costo Medio Estimado\")\n",
        "\n",
        "# Añadimos título y etiquetas a los ejes\n",
        "plt.title(\"Gráfico de dispersión: Producto vs Costo Medio y Costo Medio Estimado\")\n",
        "plt.xlabel(\"Output\")\n",
        "plt.ylabel(\"Costo Medio\")\n",
        "\n",
        "# Mostramos la leyenda\n",
        "plt.legend()\n",
        "\n",
        "# Guardamos la imagen en un archivo PNG antes de mostrarla\n",
        "plt.savefig(\"grafico_costos.png\", dpi=300)\n",
        "\n",
        "# Mostramos el gráfico\n",
        "plt.show()\n"
      ]
    },
    {
      "cell_type": "markdown",
      "source": [
        "La grafica se puede observar que A medida que el output aumenta, el costo medio disminuye rápidamente al inicio y luego se estabiliza, lo que sugiere economías de escala."
      ],
      "metadata": {
        "id": "X6qVJ5_2tXVz"
      }
    },
    {
      "cell_type": "markdown",
      "metadata": {
        "id": "AVqD3cbsO7We"
      },
      "source": [
        "## 8. Guarde el Data Frame en un archivo CSV:"
      ]
    },
    {
      "cell_type": "code",
      "execution_count": null,
      "metadata": {
        "id": "HfO9-q2VO7We"
      },
      "outputs": [],
      "source": [
        "# Guardar el DataFrame 'df' en un archivo CSV\n",
        "df.to_csv(\"dataframe_guardado.csv\", index=False)\n"
      ]
    }
  ],
  "metadata": {
    "kernelspec": {
      "display_name": "Python 3 (ipykernel)",
      "language": "python",
      "name": "python3"
    },
    "language_info": {
      "codemirror_mode": {
        "name": "ipython",
        "version": 3
      },
      "file_extension": ".py",
      "mimetype": "text/x-python",
      "name": "python",
      "nbconvert_exporter": "python",
      "pygments_lexer": "ipython3",
      "version": "3.10.14"
    },
    "colab": {
      "provenance": []
    }
  },
  "nbformat": 4,
  "nbformat_minor": 0
}